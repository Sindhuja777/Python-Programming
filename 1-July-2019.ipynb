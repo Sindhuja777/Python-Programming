{
 "cells": [
  {
   "cell_type": "markdown",
   "metadata": {},
   "source": [
    "## Day Objectives\n",
    "### Date : 1 July 2019\n",
    "- Define functions for the following data points\n",
    "    - Combined Average Income of all states from 2005 to 2013\n",
    "    - State with highest average income in the last three years\n",
    "    - State with lowest average income from 2007 to 2010(inclusive)\n",
    "    - Print the list of all states in the same line with average income less than California\n",
    "    - Print the names of states based on descending order of income in the year 2009\n",
    "    - State with the lowest recorded income from 2005 to 2013"
   ]
  },
  {
   "cell_type": "code",
   "execution_count": 9,
   "metadata": {
    "scrolled": true
   },
   "outputs": [
    {
     "data": {
      "text/html": [
       "<div>\n",
       "<style scoped>\n",
       "    .dataframe tbody tr th:only-of-type {\n",
       "        vertical-align: middle;\n",
       "    }\n",
       "\n",
       "    .dataframe tbody tr th {\n",
       "        vertical-align: top;\n",
       "    }\n",
       "\n",
       "    .dataframe thead th {\n",
       "        text-align: right;\n",
       "    }\n",
       "</style>\n",
       "<table border=\"1\" class=\"dataframe\">\n",
       "  <thead>\n",
       "    <tr style=\"text-align: right;\">\n",
       "      <th></th>\n",
       "      <th>GEOID</th>\n",
       "      <th>State</th>\n",
       "      <th>2005</th>\n",
       "      <th>2006</th>\n",
       "      <th>2007</th>\n",
       "      <th>2008</th>\n",
       "      <th>2009</th>\n",
       "      <th>2010</th>\n",
       "      <th>2011</th>\n",
       "      <th>2012</th>\n",
       "      <th>2013</th>\n",
       "    </tr>\n",
       "  </thead>\n",
       "  <tbody>\n",
       "    <tr>\n",
       "      <th>0</th>\n",
       "      <td>04000US01</td>\n",
       "      <td>Alabama</td>\n",
       "      <td>37150</td>\n",
       "      <td>37952</td>\n",
       "      <td>42212</td>\n",
       "      <td>44476</td>\n",
       "      <td>39980</td>\n",
       "      <td>40933</td>\n",
       "      <td>42590</td>\n",
       "      <td>43464</td>\n",
       "      <td>41381</td>\n",
       "    </tr>\n",
       "    <tr>\n",
       "      <th>1</th>\n",
       "      <td>04000US02</td>\n",
       "      <td>Alaska</td>\n",
       "      <td>55891</td>\n",
       "      <td>56418</td>\n",
       "      <td>62993</td>\n",
       "      <td>63989</td>\n",
       "      <td>61604</td>\n",
       "      <td>57848</td>\n",
       "      <td>57431</td>\n",
       "      <td>63648</td>\n",
       "      <td>61137</td>\n",
       "    </tr>\n",
       "    <tr>\n",
       "      <th>2</th>\n",
       "      <td>04000US04</td>\n",
       "      <td>Arizona</td>\n",
       "      <td>45245</td>\n",
       "      <td>46657</td>\n",
       "      <td>62993</td>\n",
       "      <td>46914</td>\n",
       "      <td>45739</td>\n",
       "      <td>46896</td>\n",
       "      <td>48621</td>\n",
       "      <td>47044</td>\n",
       "      <td>50602</td>\n",
       "    </tr>\n",
       "    <tr>\n",
       "      <th>3</th>\n",
       "      <td>04000US05</td>\n",
       "      <td>Arkansas</td>\n",
       "      <td>36658</td>\n",
       "      <td>37057</td>\n",
       "      <td>40795</td>\n",
       "      <td>39586</td>\n",
       "      <td>36538</td>\n",
       "      <td>38587</td>\n",
       "      <td>41302</td>\n",
       "      <td>39018</td>\n",
       "      <td>39919</td>\n",
       "    </tr>\n",
       "    <tr>\n",
       "      <th>4</th>\n",
       "      <td>04000US06</td>\n",
       "      <td>California</td>\n",
       "      <td>51755</td>\n",
       "      <td>55319</td>\n",
       "      <td>55734</td>\n",
       "      <td>57014</td>\n",
       "      <td>56134</td>\n",
       "      <td>54283</td>\n",
       "      <td>53367</td>\n",
       "      <td>57020</td>\n",
       "      <td>57528</td>\n",
       "    </tr>\n",
       "  </tbody>\n",
       "</table>\n",
       "</div>"
      ],
      "text/plain": [
       "       GEOID       State   2005   2006   2007   2008   2009   2010   2011  \\\n",
       "0  04000US01     Alabama  37150  37952  42212  44476  39980  40933  42590   \n",
       "1  04000US02      Alaska  55891  56418  62993  63989  61604  57848  57431   \n",
       "2  04000US04     Arizona  45245  46657  62993  46914  45739  46896  48621   \n",
       "3  04000US05    Arkansas  36658  37057  40795  39586  36538  38587  41302   \n",
       "4  04000US06  California  51755  55319  55734  57014  56134  54283  53367   \n",
       "\n",
       "    2012   2013  \n",
       "0  43464  41381  \n",
       "1  63648  61137  \n",
       "2  47044  50602  \n",
       "3  39018  39919  \n",
       "4  57020  57528  "
      ]
     },
     "execution_count": 9,
     "metadata": {},
     "output_type": "execute_result"
    }
   ],
   "source": [
    "filename = \"DataFiles/Income.csv\"\n",
    "import pandas as pd\n",
    "def readCSVdata(filename):\n",
    "    return pd.read_csv(filename)\n",
    "incomedf = readCSVdata(filename)\n",
    "incomedf"
   ]
  },
  {
   "cell_type": "code",
   "execution_count": 131,
   "metadata": {},
   "outputs": [
    {
     "name": "stdout",
     "output_type": "stream",
     "text": [
      "41126.444444444445\n",
      "60106.555555555555\n",
      "48967.88888888889\n",
      "38828.88888888889\n",
      "55350.444444444445\n"
     ]
    }
   ],
   "source": [
    "# Function to calculate average income of all states\n",
    "def combinedAvgIncome(df):\n",
    "    li=[]\n",
    "    for i in df.values:\n",
    "        li.append(i[2:])\n",
    "    for i in range(len(li)):\n",
    "        sum=0\n",
    "        c=0\n",
    "        for j in range(len(incomedf.columns)-2):\n",
    "            sum=sum+li[i][j]\n",
    "            c=c+1\n",
    "        avg = sum / c\n",
    "        print(avg)\n",
    "combinedAvgIncome(incomedf)"
   ]
  },
  {
   "cell_type": "code",
   "execution_count": 132,
   "metadata": {},
   "outputs": [
    {
     "name": "stdout",
     "output_type": "stream",
     "text": [
      "41126.444444444445\n",
      "60106.555555555555\n",
      "48967.88888888889\n",
      "38828.88888888889\n",
      "55350.444444444445\n"
     ]
    }
   ],
   "source": [
    "# Another function to calculate average income of all states\n",
    "def avgIncome(df):\n",
    "    for i in df.values:\n",
    "        li=i[2:]\n",
    "        print(sum(li)/len(li))\n",
    "avgIncome(incomedf)"
   ]
  },
  {
   "cell_type": "code",
   "execution_count": 154,
   "metadata": {},
   "outputs": [
    {
     "name": "stdout",
     "output_type": "stream",
     "text": [
      "60738.666666666664\n"
     ]
    }
   ],
   "source": [
    "# State with highest average income in the last three years\n",
    "def highestAvgIncomeLastThreeYears(df):\n",
    "    avglist=[]\n",
    "    for i in df.values:\n",
    "        income = i[-3:]\n",
    "        avg = sum(income)/len(income)\n",
    "        avglist.append(avg)\n",
    "    print(max(avglist))\n",
    "highestAvgIncomeLastThreeYears(incomedf)"
   ]
  },
  {
   "cell_type": "code",
   "execution_count": 155,
   "metadata": {},
   "outputs": [
    {
     "name": "stdout",
     "output_type": "stream",
     "text": [
      "(60738.666666666664, 'Alaska')\n"
     ]
    }
   ],
   "source": [
    "# State with highest average income in the last three years print the country name using dictionary\n",
    "def highestAvgIncomeLastThreeYears(df):\n",
    "    state = {}\n",
    "    for i in df.values:\n",
    "        income = i[-3:]\n",
    "        avg = sum(income)/len(income)\n",
    "        state[avg] = i[1]\n",
    "    print(max(state.items()))\n",
    "highestAvgIncomeLastThreeYears(incomedf)"
   ]
  },
  {
   "cell_type": "code",
   "execution_count": 157,
   "metadata": {},
   "outputs": [
    {
     "name": "stdout",
     "output_type": "stream",
     "text": [
      "[41900.25, 61608.5, 50635.5, 38876.5, 55791.25]\n",
      "38876.5\n"
     ]
    }
   ],
   "source": [
    "# State with lowest average income from 2007 to 2010(inclusive)\n",
    "def lowestAvgIncome(df):\n",
    "    avglist=[]\n",
    "    for i in df.values:\n",
    "        income = i[4:8]\n",
    "        avg= sum(income)/len(income)\n",
    "        avglist.append(avg)\n",
    "    print(avglist)\n",
    "    print(min(avglist))\n",
    "lowestAvgIncome(incomedf)"
   ]
  },
  {
   "cell_type": "code",
   "execution_count": 166,
   "metadata": {},
   "outputs": [
    {
     "name": "stdout",
     "output_type": "stream",
     "text": [
      "[(38828.88888888889, 'Arkansas'), (41126.444444444445, 'Alabama'), (48967.88888888889, 'Arizona'), (55350.444444444445, 'California'), (60106.555555555555, 'Alaska')]\n",
      "Arkansas\n",
      "Alabama\n",
      "Arizona\n"
     ]
    }
   ],
   "source": [
    "# Print the list of all states in the same line with average income less than California\n",
    "def avgIncomeLessThanCalifornia(df):\n",
    "    income = {}\n",
    "    for i in df.values:\n",
    "        li=i[2:]\n",
    "        avg= sum(li)/len(li)\n",
    "        income[avg] = i[1]\n",
    "    incomesort = sorted(income.items())\n",
    "    print(incomesort)\n",
    "    for income,state in incomesort:\n",
    "        if state=='California':\n",
    "            break\n",
    "        else:\n",
    "            print(state)\n",
    "avgIncomeLessThanCalifornia(incomedf)"
   ]
  },
  {
   "cell_type": "code",
   "execution_count": 207,
   "metadata": {},
   "outputs": [
    {
     "name": "stdout",
     "output_type": "stream",
     "text": [
      "[(61604, 'Alaska'), (56134, 'California'), (45739, 'Arizona'), (39980, 'Alabama'), (36538, 'Arkansas')]\n",
      "Alaska\n",
      "California\n",
      "Arizona\n",
      "Alabama\n",
      "Arkansas\n"
     ]
    }
   ],
   "source": [
    "# Print the names of states based on descending order of income in the year 2009\n",
    "def incomeDescendingOrder(df):\n",
    "    state = {}\n",
    "    for i in df.values:\n",
    "        li = i[6]\n",
    "        state[li] = i[1]\n",
    "    desc_order = sorted(state.items(),reverse = True)\n",
    "    print(desc_order)\n",
    "    for income,statename in desc_order:\n",
    "        print(statename)\n",
    "incomeDescendingOrder(incomedf)"
   ]
  },
  {
   "cell_type": "code",
   "execution_count": 216,
   "metadata": {},
   "outputs": [
    {
     "name": "stdout",
     "output_type": "stream",
     "text": [
      "(36538, 'Arkansas')\n"
     ]
    }
   ],
   "source": [
    "# State with the lowest recorded income from 2005 to 2013\n",
    "def lowestIncome(df):\n",
    "    state = {}\n",
    "    for i in df.values:\n",
    "        li=i[2:]\n",
    "        mi = min(li)\n",
    "        state[mi] = i[1]\n",
    "        lowest = sorted(state.items())\n",
    "    print(min(lowest))\n",
    "lowestIncome(incomedf)"
   ]
  },
  {
   "cell_type": "code",
   "execution_count": null,
   "metadata": {},
   "outputs": [],
   "source": []
  }
 ],
 "metadata": {
  "kernelspec": {
   "display_name": "Python 3",
   "language": "python",
   "name": "python3"
  },
  "language_info": {
   "codemirror_mode": {
    "name": "ipython",
    "version": 3
   },
   "file_extension": ".py",
   "mimetype": "text/x-python",
   "name": "python",
   "nbconvert_exporter": "python",
   "pygments_lexer": "ipython3",
   "version": "3.7.3"
  }
 },
 "nbformat": 4,
 "nbformat_minor": 2
}
