{
 "cells": [
  {
   "cell_type": "code",
   "execution_count": 14,
   "metadata": {},
   "outputs": [],
   "source": [
    "# Find and Replace Application\n",
    "    # Count the Total numbe of occurences of a word in a text file\n",
    "    # If words is existing (boolean function)\n",
    "    # Replace all occurences of a words with another word\n",
    "# Marks Analysis Application\n",
    "    # Generate the Marks file for N students\n",
    "    # Input: Marks text file - each  line contain marks of one student\n",
    "    # Generate a report with the following information\n",
    "       # Class Average \n",
    "       # % of students passed\n",
    "       # % of students failed\n",
    "       # % of students with Distinction\n",
    "       # Highest Mark Frequency\n",
    "        # Lowest Mark Frequency"
   ]
  },
  {
   "cell_type": "code",
   "execution_count": 15,
   "metadata": {},
   "outputs": [
    {
     "name": "stdout",
     "output_type": "stream",
     "text": [
      "3\n"
     ]
    }
   ],
   "source": [
    "# Find and Replace Application\n",
    "import re\n",
    "def findAndReplace(filename):\n",
    "    with open(filename,'r') as f:\n",
    "        filedata=f.read()\n",
    "        c=re.findall(\"Python\",filedata)\n",
    "        print(len(c))\n",
    "        s=re.sub(\"Java\",\"Python\",filedata)\n",
    "    with open(filename,'w') as fi:\n",
    "        fi.write(s)\n",
    "findAndReplace(\"DataFiles/data.txt\")"
   ]
  },
  {
   "cell_type": "code",
   "execution_count": null,
   "metadata": {},
   "outputs": [],
   "source": []
  },
  {
   "cell_type": "code",
   "execution_count": 16,
   "metadata": {},
   "outputs": [],
   "source": [
    "# Function to generate marks data for n students\n",
    "from random import randint\n",
    "\n",
    "def generateMarksFile(n, lb, ub):\n",
    "    with open(\"DataFiles/marks.txt\",'w') as f:\n",
    "        for i in range(n):\n",
    "            r = randint(lb,ub)\n",
    "            f.write(str(r) + '\\n')\n",
    "    return\n",
    "generateMarksFile(1000,0,100)"
   ]
  },
  {
   "cell_type": "code",
   "execution_count": 17,
   "metadata": {
    "scrolled": true
   },
   "outputs": [
    {
     "name": "stdout",
     "output_type": "stream",
     "text": [
      "Average Marks of All n Students: 48.058\n"
     ]
    }
   ],
   "source": [
    "def classAverage(filename):\n",
    "    sum=0\n",
    "    c=0\n",
    "    with open(filename,'r') as f:\n",
    "        filedata=f.read().split()\n",
    "        for i in filedata:\n",
    "            sum=sum+int(i)\n",
    "            c=c+1\n",
    "        avg=sum/c\n",
    "        print(\"Average Marks of All n Students:\",avg)\n",
    "    return\n",
    "classAverage(\"DataFiles/marks.txt\")"
   ]
  },
  {
   "cell_type": "code",
   "execution_count": 18,
   "metadata": {},
   "outputs": [
    {
     "name": "stdout",
     "output_type": "stream",
     "text": [
      "Percentage of Students Passed is:  86 %\n"
     ]
    }
   ],
   "source": [
    "def percentageOfStudPassed(filename):\n",
    "    with open(filename,'r') as f:\n",
    "        filedata=f.read().split()\n",
    "        sum=0\n",
    "        total=0\n",
    "        for i in filedata:\n",
    "            total=total+int(i)\n",
    "            if int(i)>35:\n",
    "                sum=sum+int(i)\n",
    "            else:\n",
    "                pass\n",
    "        result=(sum/total)*100\n",
    "        print(\"Percentage of Students Passed is: \",int(result),'%')\n",
    "    return\n",
    "percentageOfStudPassed(\"DataFiles/marks.txt\")"
   ]
  },
  {
   "cell_type": "code",
   "execution_count": 19,
   "metadata": {},
   "outputs": [
    {
     "name": "stdout",
     "output_type": "stream",
     "text": [
      "Percentage of Students Failed is: 13 %\n"
     ]
    }
   ],
   "source": [
    "def percentageOfStudFailed(filename):\n",
    "    with open(filename,'r') as f:\n",
    "        filedata=f.read().split()\n",
    "        sum=0\n",
    "        total=0\n",
    "        for i in filedata:\n",
    "            total=total+int(i)\n",
    "            if int(i)<35:\n",
    "                sum=sum+int(i)\n",
    "            else:\n",
    "                pass\n",
    "        result=(sum/total)*100\n",
    "        print(\"Percentage of Students Failed is:\",int(result),'%')\n",
    "percentageOfStudFailed(\"DataFiles/marks.txt\")"
   ]
  },
  {
   "cell_type": "code",
   "execution_count": 20,
   "metadata": {},
   "outputs": [
    {
     "name": "stdout",
     "output_type": "stream",
     "text": [
      "Percentage of Students with Distinction is: 33 %\n"
     ]
    }
   ],
   "source": [
    "def studentsWithDistinction(filename):\n",
    "    with open(filename,'r') as f:\n",
    "        filedata=f.read().split()\n",
    "        sum=0\n",
    "        total=0\n",
    "        for i in filedata:\n",
    "            total=total+int(i)\n",
    "            if int(i)>80:\n",
    "                sum=sum+int(i)\n",
    "        result=(sum/total)*100\n",
    "        print(\"Percentage of Students with Distinction is:\",int(result),'%')\n",
    "studentsWithDistinction(\"DataFiles/marks.txt\")"
   ]
  },
  {
   "cell_type": "code",
   "execution_count": 21,
   "metadata": {},
   "outputs": [
    {
     "name": "stdout",
     "output_type": "stream",
     "text": [
      "Highest Mark Frequency is 100 : 13\n"
     ]
    }
   ],
   "source": [
    "def highestMarkFreq(filename):\n",
    "    with open(filename,'r') as f:\n",
    "        filedata=f.read()\n",
    "        filedata=list(map(int,filedata.split()))\n",
    "        m=max(filedata)\n",
    "        f=filedata.count(m)\n",
    "        print(\"Highest Mark Frequency is\",m,':',f)\n",
    "highestMarkFreq(\"DataFiles/marks.txt\")"
   ]
  },
  {
   "cell_type": "code",
   "execution_count": 22,
   "metadata": {},
   "outputs": [
    {
     "name": "stdout",
     "output_type": "stream",
     "text": [
      "Lowest Mark Frequency is 0 : 8\n"
     ]
    }
   ],
   "source": [
    "def lowestMarkFreq(filename):\n",
    "    with open(filename,'r') as f:\n",
    "        filedata=f.read().split()\n",
    "        mi=min(filedata)\n",
    "        f=filedata.count(mi)\n",
    "        print(\"Lowest Mark Frequency is\",mi,':',f)\n",
    "lowestMarkFreq(\"DataFiles/marks.txt\")"
   ]
  },
  {
   "cell_type": "code",
   "execution_count": 23,
   "metadata": {},
   "outputs": [
    {
     "name": "stdout",
     "output_type": "stream",
     "text": [
      "13\n"
     ]
    }
   ],
   "source": [
    "import re\n",
    "def freq(filename):\n",
    "    with open(filename,'r') as f:\n",
    "        filedata=f.read()\n",
    "        s=re.findall('100',filedata)\n",
    "        print(len(s))\n",
    "freq(\"DataFiles/marks.txt\")"
   ]
  },
  {
   "cell_type": "code",
   "execution_count": 24,
   "metadata": {},
   "outputs": [
    {
     "name": "stdout",
     "output_type": "stream",
     "text": [
      "Average Marks of All n Students: 48.058\n",
      "Percentage of Students Passed is:  86 %\n",
      "Percentage of Students Failed is: 13 %\n",
      "Percentage of Students with Distinction is: 33 %\n",
      "Highest Mark Frequency is 100 : 13\n",
      "Lowest Mark Frequency is 0 : 8\n"
     ]
    }
   ],
   "source": [
    "def generateReport(filename):\n",
    "    classAverage(filename)\n",
    "    percentageOfStudPassed(filename)\n",
    "    percentageOfStudFailed(filename)\n",
    "    studentsWithDistinction(filename)\n",
    "    highestMarkFreq(filename)\n",
    "    lowestMarkFreq(filename)\n",
    "generateReport(\"DataFiles/marks.txt\")"
   ]
  },
  {
   "cell_type": "code",
   "execution_count": null,
   "metadata": {},
   "outputs": [],
   "source": []
  },
  {
   "cell_type": "code",
   "execution_count": 25,
   "metadata": {},
   "outputs": [
    {
     "name": "stdout",
     "output_type": "stream",
     "text": [
      "\n",
      "\n",
      "                    ************MAIN MENU**************\n",
      "                      1: ClassAverage\n",
      "                      2: Percentage of Students Passed\n",
      "                      3: Percentage of Students Failed\n",
      "                      4: Students with Distinction\n",
      "                      5: Highest Mark Frequency\n",
      "                      6: Lowest Mark Frequency\n",
      "\n",
      "                      Please enter your choice: 4\n",
      "Percentage of Students with Distinction is: 33 %\n",
      "\n",
      "                        1: Go to Main Menu\n",
      "                        0: Exit \n",
      "                        Please Enter your Option: 1\n",
      "\n",
      "\n",
      "                    ************MAIN MENU**************\n",
      "                      1: ClassAverage\n",
      "                      2: Percentage of Students Passed\n",
      "                      3: Percentage of Students Failed\n",
      "                      4: Students with Distinction\n",
      "                      5: Highest Mark Frequency\n",
      "                      6: Lowest Mark Frequency\n",
      "\n",
      "                      Please enter your choice: 3\n",
      "Percentage of Students Failed is: 13 %\n",
      "\n",
      "                        1: Go to Main Menu\n",
      "                        0: Exit \n",
      "                        Please Enter your Option: 0\n",
      "\n",
      "*****Thank you******\n"
     ]
    }
   ],
   "source": [
    "def displayMenu(filename):\n",
    "    #print(\"************MAIN MENU**************\")\n",
    "    print()\n",
    "    \n",
    "    option = int(input(\"\"\"\n",
    "                    ************MAIN MENU**************\n",
    "                      1: ClassAverage\n",
    "                      2: Percentage of Students Passed\n",
    "                      3: Percentage of Students Failed\n",
    "                      4: Students with Distinction\n",
    "                      5: Highest Mark Frequency\n",
    "                      6: Lowest Mark Frequency\n",
    "\n",
    "                      Please enter your choice: \"\"\"))\n",
    "\n",
    "    if option==1:\n",
    "        classAverage(filename)\n",
    "    elif option==2:\n",
    "        percentageOfStudPassed(filename)\n",
    "    elif option==3:\n",
    "        percentageOfStudFailed(filename)\n",
    "    elif option==4:\n",
    "        studentsWithDistinction(filename)\n",
    "    elif option==5:\n",
    "        highestMarkFreq(filename)\n",
    "    elif option==6:\n",
    "        lowestMarkFreq(filename)\n",
    "    else:\n",
    "        print(\"Please try again\")\n",
    "        print(\"Good Bye.......!\")\n",
    "    again=int(input(\"\"\"\n",
    "                        1: Go to Main Menu\n",
    "                        0: Exit \n",
    "                        Please Enter your Option: \"\"\"))\n",
    "    if again==1:\n",
    "        displayMenu(filename)\n",
    "    else:\n",
    "        print()\n",
    "        print(\"*****Thank you******\")\n",
    "displayMenu(\"DataFiles/marks.txt\")"
   ]
  },
  {
   "cell_type": "code",
   "execution_count": null,
   "metadata": {},
   "outputs": [],
   "source": []
  },
  {
   "cell_type": "code",
   "execution_count": null,
   "metadata": {},
   "outputs": [],
   "source": []
  }
 ],
 "metadata": {
  "kernelspec": {
   "display_name": "Python 3",
   "language": "python",
   "name": "python3"
  },
  "language_info": {
   "codemirror_mode": {
    "name": "ipython",
    "version": 3
   },
   "file_extension": ".py",
   "mimetype": "text/x-python",
   "name": "python",
   "nbconvert_exporter": "python",
   "pygments_lexer": "ipython3",
   "version": "3.7.3"
  }
 },
 "nbformat": 4,
 "nbformat_minor": 2
}
