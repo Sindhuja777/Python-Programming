{
 "cells": [
  {
   "cell_type": "markdown",
   "metadata": {},
   "source": [
    "### Advances Problem Set(Optional)\n",
    "- Function to average of all factorials in a givne range\n",
    "- Function to generate N odd armstrong numbers\n",
    "- Function to generate multiplication table for a number in a given range\n",
    "    - 10 in the range(100,110)inclusive\n",
    "- Function to print alternate values in a range in the same \n",
    "    -[500,550] -> 500,501,501 .........550\n",
    "    -(500,550) -> 501,502 .............549\n",
    "    - range(500,550) -> 500 501 502 ......549\n",
    "- All set based functions in python have start values"
   ]
  },
  {
   "cell_type": "code",
   "execution_count": null,
   "metadata": {},
   "outputs": [],
   "source": []
  },
  {
   "cell_type": "code",
   "execution_count": 11,
   "metadata": {},
   "outputs": [
    {
     "name": "stdout",
     "output_type": "stream",
     "text": [
      "100 102 104 106 108 110 112 114 116 118 120 122 124 126 128 130 132 134 136 138 140 142 144 146 148 150 "
     ]
    }
   ],
   "source": [
    "#Function to print alternate values in a range in the same line\n",
    "#-[500,550] -> 500,501,501 .........550\n",
    " #-(500,550) -> 501,502 .............549\n",
    "  #  - range(500,550) -> 500 501 502 ......549\n",
    "#- All set based functions in python have start values\n",
    "\n",
    "def alternateValues(start, end):\n",
    "    for value in range(start,end+1,2):\n",
    "        print(value,end=\" \")\n",
    "    return\n",
    "alternateValues(100,150)"
   ]
  },
  {
   "cell_type": "code",
   "execution_count": null,
   "metadata": {},
   "outputs": [],
   "source": []
  },
  {
   "cell_type": "code",
   "execution_count": 6,
   "metadata": {},
   "outputs": [
    {
     "name": "stdout",
     "output_type": "stream",
     "text": [
      "10 9 8 7 6 5 4 3 2 1 "
     ]
    }
   ],
   "source": [
    "#Function to print reverse of given range in the same line\n",
    "def reverseRange(start, end):\n",
    "    for value in range(end,start-1,-1):\n",
    "        print(value,end=\" \")\n",
    "    return\n",
    "reverseRange(1,10)"
   ]
  },
  {
   "cell_type": "code",
   "execution_count": null,
   "metadata": {},
   "outputs": [],
   "source": []
  },
  {
   "cell_type": "code",
   "execution_count": 17,
   "metadata": {},
   "outputs": [
    {
     "name": "stdout",
     "output_type": "stream",
     "text": [
      "13 11 9 7 5 3 1 "
     ]
    }
   ],
   "source": [
    "#Function to print the odd numbers in reverse order in a range\n",
    "\n",
    "def reverseOdd(start,end):\n",
    "    for i in range(end,start-1,-1):\n",
    "        if i%2==1:\n",
    "            print(i,end=\" \")\n",
    "reverseOdd(1,13)"
   ]
  },
  {
   "cell_type": "code",
   "execution_count": null,
   "metadata": {},
   "outputs": [],
   "source": []
  },
  {
   "cell_type": "code",
   "execution_count": 55,
   "metadata": {},
   "outputs": [
    {
     "name": "stdout",
     "output_type": "stream",
     "text": [
      "1\n",
      "3\n",
      "5\n",
      "7\n",
      "9\n",
      "153\n"
     ]
    }
   ],
   "source": [
    "# Function to print N odd Armstrong numbers\n",
    "def oddNArmstrong(n):\n",
    "    for i in range(1,n+1):\n",
    "        sum=0\n",
    "        l=len(str(i))\n",
    "        r=i\n",
    "        while r>0:\n",
    "            digit=r%10\n",
    "            sum=sum+digit**l\n",
    "            r=r//10\n",
    "        if sum==i:\n",
    "             if i%2==1:\n",
    "                 print(i)\n",
    "        else:\n",
    "            i=i+1\n",
    "oddNArmstrong(160)\n",
    "        "
   ]
  },
  {
   "cell_type": "code",
   "execution_count": null,
   "metadata": {},
   "outputs": [],
   "source": []
  },
  {
   "cell_type": "code",
   "execution_count": 32,
   "metadata": {
    "scrolled": true
   },
   "outputs": [
    {
     "name": "stdout",
     "output_type": "stream",
     "text": [
      "30.6\n"
     ]
    }
   ],
   "source": [
    "#Function to average of all factorials in a given range\n",
    "def factorial(lb,ub):\n",
    "    f=1\n",
    "    sum=0\n",
    "    for i in range(lb,ub+1):\n",
    "        f=f*i\n",
    "        sum=sum+f\n",
    "    avg= sum/((ub-lb)+1)\n",
    "    print(avg)\n",
    "factorial(1,5)\n"
   ]
  },
  {
   "cell_type": "code",
   "execution_count": 7,
   "metadata": {},
   "outputs": [
    {
     "name": "stdout",
     "output_type": "stream",
     "text": [
      "10 x 1 = 10\n",
      "10 x 2 = 20\n",
      "10 x 3 = 30\n",
      "10 x 4 = 40\n",
      "10 x 5 = 50\n",
      "10 x 6 = 60\n",
      "10 x 7 = 70\n",
      "10 x 8 = 80\n",
      "10 x 9 = 90\n",
      "10 x 10 = 100\n"
     ]
    }
   ],
   "source": [
    "# Function to generate multiplication table for a number in a given range\n",
    "def table(n,lb,ub):\n",
    "    for i in range(lb,ub+1):\n",
    "         print(n,'x',i,'=',n*i)\n",
    "table(10,1,10)"
   ]
  },
  {
   "cell_type": "code",
   "execution_count": null,
   "metadata": {},
   "outputs": [],
   "source": []
  },
  {
   "cell_type": "code",
   "execution_count": 35,
   "metadata": {},
   "outputs": [
    {
     "data": {
      "text/plain": [
       "15"
      ]
     },
     "execution_count": 35,
     "metadata": {},
     "output_type": "execute_result"
    }
   ],
   "source": [
    "# Function to calculate the sum of numbers in a range\n",
    "\n",
    "def sumRange(start,end):\n",
    "    sum=0\n",
    "    for i in range(start,end+1):\n",
    "        sum=sum+i\n",
    "    return sum\n",
    "sumRange(1,5)"
   ]
  },
  {
   "cell_type": "code",
   "execution_count": null,
   "metadata": {},
   "outputs": [],
   "source": []
  },
  {
   "cell_type": "code",
   "execution_count": 58,
   "metadata": {},
   "outputs": [
    {
     "data": {
      "text/plain": [
       "3.0"
      ]
     },
     "execution_count": 58,
     "metadata": {},
     "output_type": "execute_result"
    }
   ],
   "source": [
    "# Function to calculate the average of a given range\n",
    "def avgRange(start,end):\n",
    "    sum=0\n",
    "    for i in range(start,end+1):\n",
    "        sum=sum+i\n",
    "    avg=sum/(end-start+1)\n",
    "    return avg\n",
    "avgRange(1,5)"
   ]
  },
  {
   "cell_type": "code",
   "execution_count": null,
   "metadata": {},
   "outputs": [],
   "source": []
  },
  {
   "cell_type": "code",
   "execution_count": 65,
   "metadata": {},
   "outputs": [
    {
     "name": "stdout",
     "output_type": "stream",
     "text": [
      "2000 2004 2008 2012 2016 2020 "
     ]
    }
   ],
   "source": [
    "#Function to generate the leap years in a given time period\n",
    "\n",
    "def leapinRange(start,end):\n",
    "    for year in range(start,end+1):\n",
    "        if (year%400==0 or (year%100!=0 and year%4==0)):\n",
    "            print(year, end=\" \")\n",
    "    return\n",
    "leapinRange(2000,2020)"
   ]
  },
  {
   "cell_type": "code",
   "execution_count": 115,
   "metadata": {},
   "outputs": [],
   "source": []
  },
  {
   "cell_type": "code",
   "execution_count": 65,
   "metadata": {},
   "outputs": [
    {
     "name": "stdout",
     "output_type": "stream",
     "text": [
      "2000 2004 2008 2012 2016 2020 "
     ]
    }
   ],
   "source": [
    "# Function to generate the leap year in a given time period using two subfunctions\n",
    "def isLeapyear(year):\n",
    "    if (year%400==0 or(year%100!=0 and year%4==0)):\n",
    "        return True\n",
    "    return False\n",
    "def generateLeapyears(startyear,endyear):\n",
    "    for i in range(startyear,endyear+1):\n",
    "        if isLeapyear(i):\n",
    "            print(i,end=\" \")\n",
    "generateLeapyears(2000,2020)"
   ]
  },
  {
   "cell_type": "code",
   "execution_count": null,
   "metadata": {},
   "outputs": [],
   "source": []
  },
  {
   "cell_type": "code",
   "execution_count": 77,
   "metadata": {},
   "outputs": [
    {
     "data": {
      "text/plain": [
       "731"
      ]
     },
     "execution_count": 77,
     "metadata": {},
     "output_type": "execute_result"
    }
   ],
   "source": [
    "# Function to calculate no of days in a given year\n",
    "def isLeap(year):\n",
    "    if (year%400==0 or (year%100!=0 and year%4==0)):\n",
    "        return True\n",
    "    return False\n",
    "def returnDays(startyear,endyear):\n",
    "    sum=0\n",
    "    for year in range(startyear,endyear+1):\n",
    "        if isLeap(year):\n",
    "            sum=sum+366\n",
    "        else:\n",
    "            sum=sum+365\n",
    "    return sum\n",
    "returnDays(2020,2021)\n",
    "        "
   ]
  },
  {
   "cell_type": "code",
   "execution_count": null,
   "metadata": {},
   "outputs": [],
   "source": []
  },
  {
   "cell_type": "code",
   "execution_count": 78,
   "metadata": {},
   "outputs": [
    {
     "data": {
      "text/plain": [
       "205296"
      ]
     },
     "execution_count": 78,
     "metadata": {},
     "output_type": "execute_result"
    }
   ],
   "source": [
    "#Function to calculate number of hours for a given period\n",
    "#numberofHours(5,2019,6,2019)  --> 1464\n",
    "# 2, 2017 , 6, 2019 \n",
    "# No of Hours = 24* No of days\n",
    "# 3 steps\n",
    "    #1. start month  and year to end of year calculate number of days\n",
    "    #2. Calculate days for all years between start year and end year excluded\n",
    "            # 2018 - 365*no of years\n",
    "    #3. Calculate days from Jan to end month year\n",
    "# Excluding Feb\n",
    "#First Six months - 1,3,4,5,6,7\n",
    "                    # All odd months have 31 days\n",
    "                    # All even months have 30 days\n",
    "#Last Six months - 8,9,10,11,12\n",
    "                    # All even months have 31 days\n",
    "                    # All odd months have 30 days\n",
    "# 31 days - (months<=7 and month%2!=0 and month!=2 or month>=8 and month%2==0 and month!=2)\n",
    "                #return 31\n",
    " #           else\n",
    "  #              return 30\n",
    "    \n",
    "\n",
    "def noofDaysMonth(month,year):\n",
    "    if month==2:\n",
    "        if isLeap(year):\n",
    "            return 29\n",
    "        else:\n",
    "            return 28\n",
    "    elif ((month<=7 and month%2!=0)or(month>=8 and month%2==0)):\n",
    "        return 31\n",
    "    else:\n",
    "        return 30\n",
    "def daysInStartyear(startmonth,startyear):\n",
    "    days=0\n",
    "    for month in range(startmonth,13):\n",
    "        days=days+noofDaysMonth(startmonth,startyear)\n",
    "    return days\n",
    "def daysInEndyear(endmonth,endyear):\n",
    "    days=0\n",
    "    for month in range(1,endmonth+1):\n",
    "        days=days+noofDaysMonth(endmonth,endyear)\n",
    "    return days\n",
    "def noofHours(startmonth,startyear,endmonth,endyear):\n",
    "    days=0\n",
    "    days=days+daysInStartyear(startmonth,startyear)\n",
    "    days=days+daysInEndyear(endmonth,endyear)\n",
    "    if endyear-startyear==2:\n",
    "        days=days+returnDays(startyear+1,startyear+1)\n",
    "    elif endyear-startyear>2:\n",
    "        days=days+returnDays(startyear+1,endyear-1)\n",
    "    return 24*days\n",
    "noofHours(11,1975,3,1999)"
   ]
  },
  {
   "cell_type": "code",
   "execution_count": null,
   "metadata": {},
   "outputs": [],
   "source": []
  },
  {
   "cell_type": "code",
   "execution_count": null,
   "metadata": {},
   "outputs": [],
   "source": []
  },
  {
   "cell_type": "code",
   "execution_count": null,
   "metadata": {},
   "outputs": [],
   "source": []
  }
 ],
 "metadata": {
  "kernelspec": {
   "display_name": "Python 3",
   "language": "python",
   "name": "python3"
  },
  "language_info": {
   "codemirror_mode": {
    "name": "ipython",
    "version": 3
   },
   "file_extension": ".py",
   "mimetype": "text/x-python",
   "name": "python",
   "nbconvert_exporter": "python",
   "pygments_lexer": "ipython3",
   "version": "3.7.3"
  }
 },
 "nbformat": 4,
 "nbformat_minor": 2
}
