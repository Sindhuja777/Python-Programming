{
 "cells": [
  {
   "cell_type": "code",
   "execution_count": null,
   "metadata": {},
   "outputs": [],
   "source": []
  },
  {
   "cell_type": "code",
   "execution_count": 38,
   "metadata": {},
   "outputs": [
    {
     "data": {
      "text/plain": [
       "6"
      ]
     },
     "execution_count": 38,
     "metadata": {},
     "output_type": "execute_result"
    }
   ],
   "source": [
    "def firstLargest(li):\n",
    "    unique=[]\n",
    "    for n in li:\n",
    "        if n not in unique:\n",
    "            unique.append(n)\n",
    "    unique=sorted(unique,reverse=True)\n",
    "    if len(unique)>1:\n",
    "        return unique[0]\n",
    "    return -1\n",
    "firstLargest([0,2,5,7,3,9,1])\n",
    "\n",
    "def secondLargest(li):\n",
    "    unique=[]\n",
    "    for n in li:\n",
    "        if n not in unique:\n",
    "            unique.append(n)\n",
    "    unique=sorted(unique,reverse=True)\n",
    "    if len(unique)>1:\n",
    "        return unique[1]\n",
    "    else:\n",
    "        return -1\n",
    "secondLargest([8,3,6,4])\n",
    "#firstLargest([0,2,5,7,3,9,1])"
   ]
  },
  {
   "cell_type": "code",
   "execution_count": 39,
   "metadata": {},
   "outputs": [
    {
     "data": {
      "text/plain": [
       "3"
      ]
     },
     "execution_count": 39,
     "metadata": {},
     "output_type": "execute_result"
    }
   ],
   "source": [
    "def fifthLeast(li):\n",
    "    unique=[]\n",
    "    for n in li:\n",
    "        if n not in unique:\n",
    "            unique.append(n)\n",
    "    unique=sorted(unique)\n",
    "    if len(unique)>1:\n",
    "        return unique[4]\n",
    "    return -1\n",
    "fifthLeast([0,2,5,7,3,9,1])\n",
    "\n",
    "def kLargest(li, k):\n",
    "    unique=[]\n",
    "    for n in li:\n",
    "        if n not in unique:\n",
    "            unique.append(n)\n",
    "    unique=sorted(unique,reverse=True)\n",
    "    if len(unique)>=k:\n",
    "        return unique[k-1]\n",
    "    return -1\n",
    "kLargest([0,2,5,7,3,9,1],3)\n",
    "\n",
    "def kSmallest(li, k):\n",
    "    unique=[]\n",
    "    for n in li:\n",
    "        if n not in unique:\n",
    "            unique.append(n)\n",
    "    unique=sorted(unique)\n",
    "    if len(unique)>=k:\n",
    "        return unique[k-1]\n",
    "    return -1\n",
    "kSmallest([0,2,5,7,3,9,1],4)"
   ]
  },
  {
   "cell_type": "code",
   "execution_count": 77,
   "metadata": {},
   "outputs": [
    {
     "data": {
      "text/plain": [
       "2"
      ]
     },
     "execution_count": 77,
     "metadata": {},
     "output_type": "execute_result"
    }
   ],
   "source": [
    "# Function to find the Element with highest frequency in a list\n",
    "# If many elements have same frequency then print the smallest element \n",
    "# [1,2,3,9,8,7,4,3,2,1]\n",
    "def highestFrequencyElement(li):\n",
    "    # Extracting unique elements with its frequencies\n",
    "    unique={}\n",
    "    for n in li:\n",
    "        if n not in unique:\n",
    "            unique[n]=1\n",
    "        else:\n",
    "            unique[n]+=1\n",
    "    # Getting all frequencies into a list\n",
    "    # unique = {1:2,2:2,3:2,9:1,8:1,7:1,4:1}\n",
    "    maxfreq=max(unique.values())\n",
    "    maxfreqKeys=[]\n",
    "    # Identify the keys  with maximum frequency\n",
    "    for item in unique.items():\n",
    "        if item[1]==maxfreq:\n",
    "            maxfreqKeys.append(item[0])\n",
    "    # Select the minimum fro the maximum frequency list\n",
    "    return min(maxfreqKeys)   # maxFreq[k-1]  for Kth largest element\n",
    "    # For K largest    maxFreq = sorted(maxFreq,reverse=True)\n",
    "    # For K smallest maxFreq = sorted(maxFreq)\n",
    "    # return maxfreq[k-1]\n",
    "    # This is for Maximum frequency elements\n",
    "    '''for key,value in unique.items():\n",
    "        if value==ma:\n",
    "            print(key)'''\n",
    "highestFrequencyElement([1,2,3,2,3,4,5])"
   ]
  },
  {
   "cell_type": "code",
   "execution_count": 111,
   "metadata": {},
   "outputs": [
    {
     "data": {
      "text/plain": [
       "3"
      ]
     },
     "execution_count": 111,
     "metadata": {},
     "output_type": "execute_result"
    }
   ],
   "source": [
    "#  Function to identify second highest frequency element.\n",
    "# If there are many such elements then return the smallest\n",
    "def secondHighestFreqElement(li):\n",
    "    unique={}\n",
    "    for n in li:\n",
    "        if n not in unique:\n",
    "            unique[n] = 1\n",
    "        else:\n",
    "            unique[n]+=1\n",
    "    maxfreq=list(unique.values())\n",
    "    maxfreqkeys=[]\n",
    "    for i in maxfreq:\n",
    "        if i not in maxfreqkeys:\n",
    "            maxfreqkeys.append(i)\n",
    "    smf=maxfreqkeys[1]\n",
    "    secondmaxfreqkeys=[]\n",
    "    for item in unique.items():\n",
    "        if item[1]==smf:\n",
    "            secondmaxfreqkeys.append(item[0])\n",
    "    return min(secondmaxfreqkeys)\n",
    "secondHighestFreqElement([1,2,1,2,3,4,5])"
   ]
  },
  {
   "cell_type": "code",
   "execution_count": 135,
   "metadata": {},
   "outputs": [
    {
     "data": {
      "text/plain": [
       "2"
      ]
     },
     "execution_count": 135,
     "metadata": {},
     "output_type": "execute_result"
    }
   ],
   "source": [
    "# Function to find the Kth Highest frequency element in a given list\n",
    "# If two many elements with Highest frequency then return the smallest element\n",
    "#  [9,8,7,6,5,2,3,4,9,6,7,7,7,6,7,6]  k=4 output: 2\n",
    "def kHighestFreqElement(li,k):\n",
    "    unique={}\n",
    "    for n in li:\n",
    "        if n not in unique:\n",
    "            unique[n] = 1\n",
    "        else:\n",
    "            unique[n]+=1\n",
    "    freqlist=list(unique.values())\n",
    "    uniquefreq=[]\n",
    "    for i in freqlist:\n",
    "        if i not in uniquefreq:\n",
    "            uniquefreq.append(i)\n",
    "    uniquefreq=sorted(uniquefreq,reverse=True)\n",
    "    kthfreq=uniquefreq[k-1]\n",
    "    kthfreqkeys=[]\n",
    "    for item in unique.items():\n",
    "        if item[1]==kthfreq:\n",
    "            kthfreqkeys.append(item[0]) # here 0 represents key and item[1] represents value\n",
    "    return min(kthfreqkeys)\n",
    "kHighestFreqElement([9,8,7,6,5,2,3,4,9,6,7,7,7,6,7,6],4)"
   ]
  },
  {
   "cell_type": "code",
   "execution_count": 133,
   "metadata": {},
   "outputs": [
    {
     "data": {
      "text/plain": [
       "5"
      ]
     },
     "execution_count": 133,
     "metadata": {},
     "output_type": "execute_result"
    }
   ],
   "source": [
    "def kSmallestFreqElement(li,k):\n",
    "    unique={}\n",
    "    for n in li:\n",
    "        if n not in unique:\n",
    "            unique[n] = 1\n",
    "        else:\n",
    "            unique[n]+=1\n",
    "    minfreq=list(unique.values())\n",
    "    minfreqkeys=[]\n",
    "    for i in minfreq:\n",
    "        if i not in minfreqkeys:\n",
    "            minfreqkeys.append(i)\n",
    "    minfreqkeys=sorted(minfreqkeys)\n",
    "    kthfreq=minfreqkeys[k-1]\n",
    "    kthfreqkeys=[]\n",
    "    for item in unique.items():\n",
    "        if item[1]==kthfreq:\n",
    "            kthfreqkeys.append(item[0])\n",
    "    return min(kthfreqkeys)\n",
    "kSmallestFreqElement([9,8,7,6,5,2,3,4,9,6,7,7,7,6,7,6],4)\n",
    "kSmallestFreqElement([1,2,3,4,5,4,4,2,1,5,5,5],4)"
   ]
  },
  {
   "cell_type": "code",
   "execution_count": 139,
   "metadata": {},
   "outputs": [
    {
     "ename": "SyntaxError",
     "evalue": "invalid syntax (<ipython-input-139-4b610e7a7845>, line 7)",
     "output_type": "error",
     "traceback": [
      "\u001b[1;36m  File \u001b[1;32m\"<ipython-input-139-4b610e7a7845>\"\u001b[1;36m, line \u001b[1;32m7\u001b[0m\n\u001b[1;33m    return kHighestFreqElement(s,k)\u001b[0m\n\u001b[1;37m         ^\u001b[0m\n\u001b[1;31mSyntaxError\u001b[0m\u001b[1;31m:\u001b[0m invalid syntax\n"
     ]
    }
   ],
   "source": [
    "def check(filename):\n",
    "    with open(filename,'r') as f:\n",
    "        t=int(f.readline())\n",
    "        for i in range(t):\n",
    "            s=f.readline()\n",
    "            k=int(f.readline()\n",
    "    return kHighestFreqElement(s,k)\n",
    "check(\"DataFiles/input.txt\")"
   ]
  },
  {
   "cell_type": "code",
   "execution_count": null,
   "metadata": {},
   "outputs": [],
   "source": []
  },
  {
   "cell_type": "code",
   "execution_count": null,
   "metadata": {},
   "outputs": [],
   "source": []
  }
 ],
 "metadata": {
  "kernelspec": {
   "display_name": "Python 3",
   "language": "python",
   "name": "python3"
  },
  "language_info": {
   "codemirror_mode": {
    "name": "ipython",
    "version": 3
   },
   "file_extension": ".py",
   "mimetype": "text/x-python",
   "name": "python",
   "nbconvert_exporter": "python",
   "pygments_lexer": "ipython3",
   "version": "3.7.3"
  }
 },
 "nbformat": 4,
 "nbformat_minor": 2
}
