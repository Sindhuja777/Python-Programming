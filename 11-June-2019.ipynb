{
 "cells": [
  {
   "cell_type": "markdown",
   "metadata": {},
   "source": [
    "# Markdown Basics\n",
    "* **Bold**\n",
    "* *Italic*\n",
    "* ***IB***\n",
    "* ~~strike out~~\n",
    "* Normal Text\n",
    "  * Sublist 1\n",
    "  * Sublist 2\n",
    "  \n",
    " \n",
    "> 1. Ordered list 1\n",
    "> 2. Ordered list 2\n",
    "\n",
    "\n",
    "- [x] Option 1\n",
    "- [ ] Option 2\n",
    "- [ ] Option 3\n",
    "\n",
    "`printf(\"Hello Markdown\")`\n",
    "\n",
    "<http://google.com>\n",
    "\n",
    "\n",
    "markdown@google.com\n",
    "\n",
    "\n",
    "\n",
    "[Jupyter logo](th.jpg) \n",
    "\n",
    "![Jupyter Logo](th.jpg)\n",
    "\n",
    "<img src=\"th.jpg\"\n",
    "width=\"50\" height=\"50\"\n",
    "style=\"float:left\">"
   ]
  },
  {
   "cell_type": "code",
   "execution_count": null,
   "metadata": {},
   "outputs": [],
   "source": []
  },
  {
   "cell_type": "markdown",
   "metadata": {},
   "source": [
    "## Python Basics\n",
    "\n",
    "#### Python version 3.7\n",
    "\n",
    "\n",
    "- Scripting language\n",
    "- Object Oriented language\n",
    "- Functional Language\n"
   ]
  },
  {
   "cell_type": "code",
   "execution_count": 1,
   "metadata": {},
   "outputs": [
    {
     "name": "stdout",
     "output_type": "stream",
     "text": [
      "Praise the Lord ! God Bless You\n"
     ]
    }
   ],
   "source": [
    "# Python comment\n",
    "\n",
    "print(\"Praise the Lord\",\"!\",end=\" \")#Basic output\n",
    "print(\"God Bless You\")\n"
   ]
  },
  {
   "cell_type": "code",
   "execution_count": null,
   "metadata": {},
   "outputs": [],
   "source": []
  },
  {
   "cell_type": "markdown",
   "metadata": {},
   "source": [
    "## Assinment"
   ]
  },
  {
   "cell_type": "code",
   "execution_count": 2,
   "metadata": {},
   "outputs": [
    {
     "name": "stdout",
     "output_type": "stream",
     "text": [
      "123\n",
      "123 234 345\n"
     ]
    }
   ],
   "source": [
    "n = 123 # single variable assignment\n",
    "n #this is also print the n value\n",
    "print(n)\n",
    "\n",
    "n1=n2=n3=n # multi variable assignment of the same value\n",
    "\n",
    "\n",
    "a,b,c=123,234,345#Multi variable assignment with different values\n",
    "\n",
    "print(a,b,c)"
   ]
  },
  {
   "cell_type": "code",
   "execution_count": null,
   "metadata": {},
   "outputs": [],
   "source": []
  },
  {
   "cell_type": "markdown",
   "metadata": {},
   "source": [
    "##  Data Types & Type Conversions\n",
    "- int\n",
    "- float\n",
    "- string"
   ]
  },
  {
   "cell_type": "code",
   "execution_count": 3,
   "metadata": {},
   "outputs": [
    {
     "data": {
      "text/plain": [
       "'10'"
      ]
     },
     "execution_count": 3,
     "metadata": {},
     "output_type": "execute_result"
    }
   ],
   "source": [
    "\n",
    "type(a)\n",
    "\n",
    "s1=\"python\"\n",
    "type(s1)\n",
    "\n",
    "f=10.345\n",
    "type(f)\n",
    "\n",
    "int(f) #type conversion from floating to integer\n",
    "\n",
    "str(int(f)) # float converting into integer then integer convert into string\n"
   ]
  },
  {
   "cell_type": "code",
   "execution_count": null,
   "metadata": {},
   "outputs": [],
   "source": []
  },
  {
   "cell_type": "markdown",
   "metadata": {},
   "source": [
    "## Arithmetic Operations\n",
    "\n",
    "- +\n",
    "- -\n",
    "- *\n",
    "- /\n",
    "- %\n",
    "- **"
   ]
  },
  {
   "cell_type": "code",
   "execution_count": 4,
   "metadata": {},
   "outputs": [
    {
     "data": {
      "text/plain": [
       "83"
      ]
     },
     "execution_count": 4,
     "metadata": {},
     "output_type": "execute_result"
    }
   ],
   "source": [
    "n1 % 11\n",
    "\n",
    "n2 = n3 ** 12\n",
    "type(n2)\n",
    "len(str(n2))\n",
    "\n",
    "atoms = 10 ** 82\n",
    "type(atoms)\n",
    "len(str(atoms))\n"
   ]
  },
  {
   "cell_type": "code",
   "execution_count": null,
   "metadata": {},
   "outputs": [],
   "source": []
  },
  {
   "cell_type": "markdown",
   "metadata": {},
   "source": [
    "## Condition Checking\n",
    "\n"
   ]
  },
  {
   "cell_type": "code",
   "execution_count": 5,
   "metadata": {},
   "outputs": [
    {
     "name": "stdout",
     "output_type": "stream",
     "text": [
      "TRUE\n"
     ]
    }
   ],
   "source": [
    "atoms < 10 ** 99  # true statement\n",
    "atoms < 10 ** 79  # false statement\n",
    "\n",
    "if atoms < 10 ** 9:\n",
    "    print(\"FALSE\")\n",
    "else:\n",
    "    print(\"TRUE\")\n",
    "    \n"
   ]
  },
  {
   "cell_type": "code",
   "execution_count": 6,
   "metadata": {},
   "outputs": [
    {
     "name": "stdout",
     "output_type": "stream",
     "text": [
      "odd\n"
     ]
    }
   ],
   "source": [
    "#Check if a number is Even \n",
    "\n",
    "n=123\n",
    "if n%2==0:\n",
    "    print(\"Even\")\n",
    "else:\n",
    "    print(\"odd\")"
   ]
  },
  {
   "cell_type": "markdown",
   "metadata": {},
   "source": [
    " "
   ]
  },
  {
   "cell_type": "code",
   "execution_count": 7,
   "metadata": {},
   "outputs": [
    {
     "name": "stdout",
     "output_type": "stream",
     "text": [
      "Enter the first number12\n",
      "Enter the second number32\n",
      "Enter the third number43\n",
      "43 is greatest\n"
     ]
    }
   ],
   "source": [
    "#Find the greatest number\n",
    "\n",
    "a=input(\"Enter the first number\")\n",
    "b=input(\"Enter the second number\")\n",
    "c=input(\"Enter the third number\")\n",
    "if a>b and a>c:\n",
    "    print(a,\"is the greatest number\")\n",
    "elif b>a and b>c:\n",
    "    print(b,\"is greatest\")\n",
    "else:\n",
    "    print(c,\"is greatest\")"
   ]
  },
  {
   "cell_type": "code",
   "execution_count": 6,
   "metadata": {
    "scrolled": true
   },
   "outputs": [
    {
     "name": "stdout",
     "output_type": "stream",
     "text": [
      "Enter a number2020\n",
      "leap year\n"
     ]
    }
   ],
   "source": [
    "#Check if given year is leap year or not\n",
    "n=int(input(\"Enter a number\"))\n",
    "if n % 400==0 or (n%100!=0 and n%4==0):\n",
    "    print(\"leap year\")\n",
    "else:\n",
    "    print(\"not a leap year\")"
   ]
  },
  {
   "cell_type": "code",
   "execution_count": 4,
   "metadata": {},
   "outputs": [
    {
     "name": "stdout",
     "output_type": "stream",
     "text": [
      "Enter a number1234\n",
      "4\n"
     ]
    }
   ],
   "source": [
    "# Calculate the number of digits in a number\n",
    "n=int(input(\"Enter a number\"))\n",
    "count=0\n",
    "while n>0:\n",
    "    n=n//10\n",
    "    count=count+1\n",
    "print(count)"
   ]
  },
  {
   "cell_type": "code",
   "execution_count": null,
   "metadata": {},
   "outputs": [],
   "source": [
    "# Check if a number is a multiple of 10 or not\n",
    "n=int(input(\"Enter a number\"))\n",
    "if n%10 == 0:\n",
    "    print(\"multiple\")\n",
    "else:\n",
    "    print(\"not multiple\")"
   ]
  },
  {
   "cell_type": "code",
   "execution_count": 10,
   "metadata": {},
   "outputs": [
    {
     "name": "stdout",
     "output_type": "stream",
     "text": [
      "Enter a number3\n",
      "not a factor\n"
     ]
    }
   ],
   "source": [
    "#Check if a number is a factor of 1000\n",
    "n=int(input(\"Enter a number\"))\n",
    "a=1000\n",
    "if a%n == 0:\n",
    "    print(\"factor\")\n",
    "else:\n",
    "    print(\"not a factor\")"
   ]
  },
  {
   "cell_type": "code",
   "execution_count": 8,
   "metadata": {},
   "outputs": [
    {
     "name": "stdout",
     "output_type": "stream",
     "text": [
      "not equal\n"
     ]
    }
   ],
   "source": [
    "# Check if given string is equal to a number\n",
    "n=123456\n",
    "s=\"12345\"\n",
    "if str(n) == s:\n",
    "    print(\"both are equal\")\n",
    "else:\n",
    "    print(\"not equal\")\n"
   ]
  },
  {
   "cell_type": "code",
   "execution_count": 13,
   "metadata": {},
   "outputs": [
    {
     "name": "stdout",
     "output_type": "stream",
     "text": [
      "Enter a number100\n",
      "10\n"
     ]
    }
   ],
   "source": [
    "#calculate square root of a number without using math functions\n",
    "n=int(input(\"Enter a number\"))\n",
    "sqr=n**0.5\n",
    "print(int(sqr))"
   ]
  },
  {
   "cell_type": "code",
   "execution_count": 15,
   "metadata": {},
   "outputs": [
    {
     "name": "stdout",
     "output_type": "stream",
     "text": [
      "31622400000000000\n"
     ]
    }
   ],
   "source": [
    "#Calculate the number of nano seconds in year \n",
    "#given year(considering leap year logic)\n",
    "\n",
    "year=2016\n",
    "if year%400==0 or (year%100!=0 and year%4==0):\n",
    "    print(366*24*60*60*(10**9))\n",
    "else:\n",
    "    print(365*24*60*60*(10**8))"
   ]
  },
  {
   "cell_type": "code",
   "execution_count": null,
   "metadata": {},
   "outputs": [],
   "source": []
  }
 ],
 "metadata": {
  "kernelspec": {
   "display_name": "Python 3",
   "language": "python",
   "name": "python3"
  },
  "language_info": {
   "codemirror_mode": {
    "name": "ipython",
    "version": 3
   },
   "file_extension": ".py",
   "mimetype": "text/x-python",
   "name": "python",
   "nbconvert_exporter": "python",
   "pygments_lexer": "ipython3",
   "version": "3.7.3"
  }
 },
 "nbformat": 4,
 "nbformat_minor": 2
}
