{
 "cells": [
  {
   "cell_type": "code",
   "execution_count": 7,
   "metadata": {},
   "outputs": [
    {
     "name": "stdout",
     "output_type": "stream",
     "text": [
      "name1 already exists\n"
     ]
    }
   ],
   "source": [
    "#Function to add contact to contacts text file\n",
    "from Packages.validations import phoneNumberValidator as pnv, emailValidator as ev\n",
    "\n",
    "def addContact(name,phonenum,email):\n",
    "    # store data as name,phonenum,email in the contacts text file\n",
    "    filename = 'DataFiles/contacts.txt'\n",
    "    if not validate(name):\n",
    "        if pnv(phonenum)and ev(email):    \n",
    "            with open(filename,'a') as f:\n",
    "                line = name + ',' +str(phonenum) + ',' + email + '\\n'\n",
    "                f.write(line)\n",
    "            print(name,\"Added to contacts\")\n",
    "        else:\n",
    "            print(\"Invalid Phone Number or email\")\n",
    "            return\n",
    "    else:\n",
    "        print(name,\"already exists\")\n",
    "    return\n",
    "# Function to check if contact already exists\n",
    "import re\n",
    "def validate(name):\n",
    "    filename='DataFiles/contacts.txt'\n",
    "    with open(filename,'r') as f:\n",
    "        filedata = f.read()\n",
    "        pattern = name+','\n",
    "    return re.search(pattern,filedata)\n",
    "addContact('name1',7890645321,'abcd_123@yahoo.com')"
   ]
  },
  {
   "cell_type": "code",
   "execution_count": 27,
   "metadata": {
    "scrolled": true
   },
   "outputs": [
    {
     "name": "stdout",
     "output_type": "stream",
     "text": [
      "name1,9912345678,name1_123@gmail.com\n",
      "name2,9010105145,name2123@google.com\n",
      " "
     ]
    }
   ],
   "source": [
    "filename = 'DataFiles/contacts.txt'\n",
    "def csvFileToList(filename):\n",
    "    li=[]\n",
    "    with open(filename,'r') as f:\n",
    "        for line in f:\n",
    "            li.append(line.split(','))\n",
    "    return li\n",
    "#csvFileToList(filename)\n",
    "def listToFile(li):\n",
    "    s = ''\n",
    "    for i in li:\n",
    "        s+=','.join(i)\n",
    "    return s\n",
    "li=csvFileToList(filename)\n",
    "print(listToFile(li),end=\" \")"
   ]
  },
  {
   "cell_type": "code",
   "execution_count": null,
   "metadata": {},
   "outputs": [],
   "source": []
  },
  {
   "cell_type": "code",
   "execution_count": 12,
   "metadata": {},
   "outputs": [
    {
     "name": "stdout",
     "output_type": "stream",
     "text": [
      "[]\n"
     ]
    }
   ],
   "source": [
    "import re\n",
    "s=\"ab\"\n",
    "li=re.findall(\"ab{2,3}\",s)\n",
    "print(li)"
   ]
  },
  {
   "cell_type": "code",
   "execution_count": null,
   "metadata": {},
   "outputs": [],
   "source": []
  }
 ],
 "metadata": {
  "kernelspec": {
   "display_name": "Python 3",
   "language": "python",
   "name": "python3"
  },
  "language_info": {
   "codemirror_mode": {
    "name": "ipython",
    "version": 3
   },
   "file_extension": ".py",
   "mimetype": "text/x-python",
   "name": "python",
   "nbconvert_exporter": "python",
   "pygments_lexer": "ipython3",
   "version": "3.7.3"
  }
 },
 "nbformat": 4,
 "nbformat_minor": 2
}
