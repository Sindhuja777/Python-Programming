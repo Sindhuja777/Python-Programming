{
 "cells": [
  {
   "cell_type": "markdown",
   "metadata": {},
   "source": [
    "## Day Objectives :\n",
    "\n",
    "### Date : 27-June-2019\n"
   ]
  },
  {
   "cell_type": "markdown",
   "metadata": {},
   "source": [
    "### Set - Data Structure in Python\n",
    "- Represented by '{}'\n",
    "- To define a set a={1,2,3,4,5}\n",
    "- Set contains only unique elements\n",
    "- If similar elements are there while printing it removes the redandant data and print the unique data\n",
    "- Set is mutable means we change elements means add delete etc\n",
    "- If we wnat Add an element to the set setname.add(element)\n",
    "- For accessing elements in set we use a for loop"
   ]
  },
  {
   "cell_type": "markdown",
   "metadata": {},
   "source": [
    "- Set Methods \n",
    "- Python has a set of built-in methods that you can use on sets. \n",
    "- Method Description \n",
    "- add() Adds an element to the set \n",
    "- clear() Removes all the elements from the set \n",
    "- copy() Returns a copy of the set \n",
    "- -difference() Returns a set containing the difference between two or more sets \n",
    "- difference_update() Removes the items in this set that are also included in another, specified set \n",
    "- discard() Remove the specified item \n",
    "- intersection() Returns a set, that is the intersection of two other sets \n",
    "- intersection_update() Removes the items in this set that are not present in other, specified set(s) \n",
    "- isdisjoint( Returns whether two sets have a intersection or not \n",
    "- issubset() Returns whether another set contains this set or not \n",
    "- issuperset() Returns whether this set contains another set or not \n",
    "- pop() Removes an element from the set \n",
    "- remove() Removes the specified element \n",
    "- symmetric_difference() Returns a set with the symmetric differences of two sets \n",
    "- symmetric_difference_update() inserts the symmetric differences from this set and another \n",
    "- union() Return a set containing the union of sets \n",
    "- update() Update the set with the union of this set and others \n"
   ]
  },
  {
   "cell_type": "code",
   "execution_count": 1,
   "metadata": {},
   "outputs": [
    {
     "name": "stdout",
     "output_type": "stream",
     "text": [
      "1 2 3 4 5 6 10 "
     ]
    },
    {
     "data": {
      "text/plain": [
       "{1, 2, 3, 4, 5, 6, 7, 8, 9, 10}"
      ]
     },
     "execution_count": 1,
     "metadata": {},
     "output_type": "execute_result"
    }
   ],
   "source": [
    "a={1,2,3,4,5,6,6}\n",
    "a.add(10)   # For adding an element to a Set\n",
    "\n",
    "for i in a:   # To access elements of a Set\n",
    "    print(i,end=' ')  # For printing elements of a Set\n",
    "    \n",
    "# For adding more elements to a set\n",
    "b={8,9}\n",
    "li=[7,11]\n",
    "a.update(b,li)  # For adding another set and list elements to a set\n",
    "\n",
    "a.discard(11)   # For removing or deleting an element from a set\n",
    "a"
   ]
  },
  {
   "cell_type": "code",
   "execution_count": 9,
   "metadata": {},
   "outputs": [
    {
     "data": {
      "text/plain": [
       "{1, 2, 3, 4, 5, 6, 7, 8, 9, 10}"
      ]
     },
     "execution_count": 9,
     "metadata": {},
     "output_type": "execute_result"
    }
   ],
   "source": [
    "a={10,1,2,3,4,5,6}\n",
    "b={7,8,9,1,2,3}\n",
    "c={11,12}\n",
    "a.union(b)   # Combining of both sets using set operation union\n",
    "\n",
    "a.intersection(b)   #  Intersection operation\n",
    "\n",
    "# A U B = B U A\n",
    "\n",
    "b.union(a)"
   ]
  },
  {
   "cell_type": "code",
   "execution_count": 3,
   "metadata": {},
   "outputs": [
    {
     "data": {
      "text/plain": [
       "True"
      ]
     },
     "execution_count": 3,
     "metadata": {},
     "output_type": "execute_result"
    }
   ],
   "source": [
    "a.isdisjoint(c)  # It returns True if two sets not having common elements otherwise False"
   ]
  },
  {
   "cell_type": "code",
   "execution_count": 4,
   "metadata": {},
   "outputs": [
    {
     "data": {
      "text/plain": [
       "{4, 5, 6, 10}"
      ]
     },
     "execution_count": 4,
     "metadata": {},
     "output_type": "execute_result"
    }
   ],
   "source": [
    "a - b  # All elements of 'a' which are not in 'b'"
   ]
  },
  {
   "cell_type": "code",
   "execution_count": 10,
   "metadata": {},
   "outputs": [
    {
     "data": {
      "text/plain": [
       "[1, 2, 3, 4, 5, 6, 10]"
      ]
     },
     "execution_count": 10,
     "metadata": {},
     "output_type": "execute_result"
    }
   ],
   "source": [
    "sorted(a)"
   ]
  },
  {
   "cell_type": "code",
   "execution_count": 12,
   "metadata": {},
   "outputs": [
    {
     "data": {
      "text/plain": [
       "{4, 5, 6, 7, 8, 9, 10}"
      ]
     },
     "execution_count": 12,
     "metadata": {},
     "output_type": "execute_result"
    }
   ],
   "source": [
    "a={10,1,2,3,4,5,6}\n",
    "b={7,8,9,1,2,3}\n",
    "\n",
    "a ^ b  # Elements either in a or in b"
   ]
  },
  {
   "cell_type": "code",
   "execution_count": 14,
   "metadata": {},
   "outputs": [
    {
     "data": {
      "text/plain": [
       "set()"
      ]
     },
     "execution_count": 14,
     "metadata": {},
     "output_type": "execute_result"
    }
   ],
   "source": [
    "d = set()  # To create an empty set \n",
    "d"
   ]
  },
  {
   "cell_type": "code",
   "execution_count": 15,
   "metadata": {},
   "outputs": [
    {
     "data": {
      "text/plain": [
       "{1, 2, 3, 4, 5, 6}"
      ]
     },
     "execution_count": 15,
     "metadata": {},
     "output_type": "execute_result"
    }
   ],
   "source": [
    "li = [1,2,3,4,1,2,5,6]\n",
    "u = set(li)\n",
    "u"
   ]
  },
  {
   "cell_type": "code",
   "execution_count": null,
   "metadata": {},
   "outputs": [],
   "source": []
  },
  {
   "cell_type": "markdown",
   "metadata": {},
   "source": [
    "## Functional Programming\n",
    "- Procedural :C\n",
    "- Object Oriented : Java, Python\n",
    "- Scripting Language : PHP, Python, Javascript, Shell, Perl\n",
    "- Functional : Python, Haskell, Scala\n",
    "- Logic Based or Rule Based : Prolog, Lisp"
   ]
  },
  {
   "cell_type": "markdown",
   "metadata": {},
   "source": [
    "### List Comprehensions"
   ]
  },
  {
   "cell_type": "code",
   "execution_count": 21,
   "metadata": {},
   "outputs": [
    {
     "data": {
      "text/plain": [
       "[1, 2, 3, 4, 5, 6, 7, 8, 9, 10]"
      ]
     },
     "execution_count": 21,
     "metadata": {},
     "output_type": "execute_result"
    }
   ],
   "source": [
    "# List of N natural numbers\n",
    "li=[i for i in range(1,11)]\n",
    "li"
   ]
  },
  {
   "cell_type": "code",
   "execution_count": 25,
   "metadata": {},
   "outputs": [
    {
     "data": {
      "text/plain": [
       "[1, 8, 27, 64, 125, 216, 343, 512, 729, 1000]"
      ]
     },
     "execution_count": 25,
     "metadata": {},
     "output_type": "execute_result"
    }
   ],
   "source": [
    "# Apply list comprehension to store cubes of N natural numbers\n",
    "li=[i**3 for i in range(1,11)]\n",
    "li"
   ]
  },
  {
   "cell_type": "code",
   "execution_count": 38,
   "metadata": {},
   "outputs": [
    {
     "data": {
      "text/plain": [
       "[1, 2, 6, 24, 120, 720, 5040, 40320, 362880, 3628800]"
      ]
     },
     "execution_count": 38,
     "metadata": {},
     "output_type": "execute_result"
    }
   ],
   "source": [
    "# Function to calcualte factorial of a given number\n",
    "def factorial(n):\n",
    "    if n==0 or n==1:\n",
    "        return 1\n",
    "    else:\n",
    "        return n*factorial(n-1) \n",
    "# Applay list comprehension to calculate factorial of n natural numbers\n",
    "n=10\n",
    "factorialList=[factorial(i) for i in range(1,n+1)]\n",
    "factorialList"
   ]
  },
  {
   "cell_type": "code",
   "execution_count": 65,
   "metadata": {},
   "outputs": [
    {
     "data": {
      "text/plain": [
       "[1, 3, 6, 10, 15]"
      ]
     },
     "execution_count": 65,
     "metadata": {},
     "output_type": "execute_result"
    }
   ],
   "source": [
    "# Store cumulative sum of numbers til n in a list using list comprehension\n",
    "n=5\n",
    "cumulative_sum = [sum(range(1,i+1)) for i in range(1,n+1)]   \n",
    "cumulative_sum"
   ]
  },
  {
   "cell_type": "code",
   "execution_count": 67,
   "metadata": {},
   "outputs": [
    {
     "data": {
      "text/plain": [
       "[1972, 1976, 1980, 1984, 1988, 1992, 1996, 2000, 2004, 2008, 2012, 2016]"
      ]
     },
     "execution_count": 67,
     "metadata": {},
     "output_type": "execute_result"
    }
   ],
   "source": [
    "# List Comprehension to store only leap years in a given time period\n",
    "startyear = 1970\n",
    "endyear = 2019\n",
    "leapyear=[i for i in range(startyear,endyear+1) if (i%400==0 or (i%4==0 and i%100!=0))]\n",
    "leapyear"
   ]
  },
  {
   "cell_type": "code",
   "execution_count": 74,
   "metadata": {},
   "outputs": [
    {
     "data": {
      "text/plain": [
       "[False, 2, False, 4, False, 6, False, 8, False]"
      ]
     },
     "execution_count": 74,
     "metadata": {},
     "output_type": "execute_result"
    }
   ],
   "source": [
    "# List Comprehension to store only even numbers\n",
    "li=[i if i%2==0 else False for i in range(1,10)]\n",
    "li"
   ]
  },
  {
   "cell_type": "code",
   "execution_count": 109,
   "metadata": {},
   "outputs": [
    {
     "data": {
      "text/plain": [
       "[1, 2, 3, 4, 5, 6, 7]"
      ]
     },
     "execution_count": 109,
     "metadata": {},
     "output_type": "execute_result"
    }
   ],
   "source": [
    "# List Comprehension to store only unique elements\n",
    "li=[1,2,3,2,1,4,5,6,4,5,7]\n",
    "li.sort()\n",
    "unique = [uni.append(i) for i in li if i not in uni]"
   ]
  },
  {
   "cell_type": "code",
   "execution_count": 1,
   "metadata": {},
   "outputs": [
    {
     "data": {
      "text/plain": [
       "['love']"
      ]
     },
     "execution_count": 1,
     "metadata": {},
     "output_type": "execute_result"
    }
   ],
   "source": [
    "listofwords=[\"i\", \"love\",\"india\"] \n",
    "result=[word for word in listofwords if word[0]!='i']\n",
    "result"
   ]
  },
  {
   "cell_type": "code",
   "execution_count": null,
   "metadata": {},
   "outputs": [],
   "source": []
  },
  {
   "cell_type": "markdown",
   "metadata": {},
   "source": [
    "## Iterators\n",
    "- Iterable -> Strings, Lists, Tuples, Sets, Dictionaries\n",
    "- Convert Iterable to Iterator  -> iter()"
   ]
  },
  {
   "cell_type": "code",
   "execution_count": 4,
   "metadata": {},
   "outputs": [
    {
     "name": "stdout",
     "output_type": "stream",
     "text": [
      "1:\n",
      "p\n",
      "\n",
      "\n",
      "2:\n",
      "y\n"
     ]
    }
   ],
   "source": [
    "it=iter(\"python\")\n",
    "print(\"1:\")\n",
    "print(next(it))\n",
    "print(\"\\n\")\n",
    "print(\"2:\")\n",
    "print(next(it))"
   ]
  },
  {
   "cell_type": "markdown",
   "metadata": {},
   "source": [
    "## Generators\n",
    "- Generator is a function"
   ]
  },
  {
   "cell_type": "code",
   "execution_count": 5,
   "metadata": {},
   "outputs": [
    {
     "data": {
      "text/plain": [
       "512"
      ]
     },
     "execution_count": 5,
     "metadata": {},
     "output_type": "execute_result"
    }
   ],
   "source": [
    "def generator(): \n",
    "    n=2 \n",
    "    yield n \n",
    "    n=n**3 \n",
    "    yield n \n",
    "    n=n**3 \n",
    "    yield n \n",
    "a=generator() \n",
    "#generator() \n",
    "next(a) \n",
    "next(a)\n",
    "next(a) \n",
    "#next(a) "
   ]
  },
  {
   "cell_type": "code",
   "execution_count": 7,
   "metadata": {},
   "outputs": [
    {
     "data": {
      "text/plain": [
       "2417851639229258349412352"
      ]
     },
     "execution_count": 7,
     "metadata": {},
     "output_type": "execute_result"
    }
   ],
   "source": [
    "def generator(): \n",
    "    n=2 \n",
    "    for i in range(1,5): \n",
    "        n**=3 \n",
    "        yield n \n",
    "a=generator()\n",
    "next(a)\n",
    "next(a)\n",
    "next(a)\n",
    "next(a)"
   ]
  },
  {
   "cell_type": "code",
   "execution_count": 11,
   "metadata": {},
   "outputs": [
    {
     "data": {
      "text/plain": [
       "35184372088832"
      ]
     },
     "execution_count": 11,
     "metadata": {},
     "output_type": "execute_result"
    }
   ],
   "source": [
    "def generator():\n",
    "    n=2\n",
    "    for i in range(1,5):\n",
    "        n**=3\n",
    "        yield n\n",
    "a=generator()\n",
    "next(a)\n",
    "b=next(a)**2\n",
    "b=b*next(a)\n",
    "b"
   ]
  },
  {
   "cell_type": "code",
   "execution_count": 12,
   "metadata": {},
   "outputs": [
    {
     "name": "stdout",
     "output_type": "stream",
     "text": [
      "8\n",
      "512\n",
      "134217728\n",
      "2417851639229258349412352\n"
     ]
    },
    {
     "ename": "StopIteration",
     "evalue": "",
     "output_type": "error",
     "traceback": [
      "\u001b[1;31m---------------------------------------------------------------------------\u001b[0m",
      "\u001b[1;31mStopIteration\u001b[0m                             Traceback (most recent call last)",
      "\u001b[1;32m<ipython-input-12-a0ec7c113e85>\u001b[0m in \u001b[0;36m<module>\u001b[1;34m\u001b[0m\n\u001b[0;32m      6\u001b[0m \u001b[0ma\u001b[0m\u001b[1;33m=\u001b[0m\u001b[0mgenerator\u001b[0m\u001b[1;33m(\u001b[0m\u001b[1;33m)\u001b[0m\u001b[1;33m\u001b[0m\u001b[1;33m\u001b[0m\u001b[0m\n\u001b[0;32m      7\u001b[0m \u001b[1;32mfor\u001b[0m \u001b[0mi\u001b[0m \u001b[1;32min\u001b[0m \u001b[0mrange\u001b[0m\u001b[1;33m(\u001b[0m\u001b[1;36m5\u001b[0m\u001b[1;33m)\u001b[0m\u001b[1;33m:\u001b[0m\u001b[1;33m\u001b[0m\u001b[1;33m\u001b[0m\u001b[0m\n\u001b[1;32m----> 8\u001b[1;33m     \u001b[0mprint\u001b[0m\u001b[1;33m(\u001b[0m\u001b[0mnext\u001b[0m\u001b[1;33m(\u001b[0m\u001b[0ma\u001b[0m\u001b[1;33m)\u001b[0m\u001b[1;33m)\u001b[0m\u001b[1;33m\u001b[0m\u001b[1;33m\u001b[0m\u001b[0m\n\u001b[0m",
      "\u001b[1;31mStopIteration\u001b[0m: "
     ]
    }
   ],
   "source": [
    "def generator1():\n",
    "    n=2\n",
    "    for i in range(1,5):\n",
    "        n**=3\n",
    "        yield n\n",
    "a=generator()\n",
    "for i in range(5):\n",
    "    print(next(a))"
   ]
  },
  {
   "cell_type": "code",
   "execution_count": null,
   "metadata": {},
   "outputs": [],
   "source": []
  }
 ],
 "metadata": {
  "kernelspec": {
   "display_name": "Python 3",
   "language": "python",
   "name": "python3"
  },
  "language_info": {
   "codemirror_mode": {
    "name": "ipython",
    "version": 3
   },
   "file_extension": ".py",
   "mimetype": "text/x-python",
   "name": "python",
   "nbconvert_exporter": "python",
   "pygments_lexer": "ipython3",
   "version": "3.7.3"
  }
 },
 "nbformat": 4,
 "nbformat_minor": 2
}
