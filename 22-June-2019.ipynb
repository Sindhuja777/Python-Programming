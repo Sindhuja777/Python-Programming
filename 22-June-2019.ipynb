{
 "cells": [
  {
   "cell_type": "markdown",
   "metadata": {},
   "source": [
    "### Date : 22 June 2019\n",
    "### Day Objectives\n",
    "\n",
    "- File Handling\n",
    "    - Basic File Data Processing\n",
    "        - Accessing and Modifying File Data\n",
    "    - Character Count\n",
    "    - Line Count \n",
    "    - File Size\n",
    "    - Word Count\n",
    "    - Unique Word Count"
   ]
  },
  {
   "cell_type": "code",
   "execution_count": 56,
   "metadata": {},
   "outputs": [
    {
     "name": "stdout",
     "output_type": "stream",
     "text": [
      "hi how are you \n",
      "hi how LINE2\n",
      "LINE2\n",
      "Line3\n"
     ]
    }
   ],
   "source": [
    "# Read a File - File should exit(Read Mode)\n",
    "# Write to a File - Existing(append Mode) or New File\n",
    "def readFile(filepath):\n",
    "    with open(filepath,'r') as f:\n",
    "        filedata=f.read()\n",
    "    return filedata\n",
    "filepath='DataFiles/data.txt'\n",
    "print(readFile(filepath)) # here print is used to print the data as in the original file\n",
    "\n",
    "# def writeFile(filepath):\n",
    "#     with open(filepath,'a') as f:\n",
    "#         filedata=f.write()"
   ]
  },
  {
   "cell_type": "code",
   "execution_count": 5,
   "metadata": {},
   "outputs": [
    {
     "name": "stdout",
     "output_type": "stream",
     "text": [
      "File size in bytes of a plain file:  74\n"
     ]
    }
   ],
   "source": [
    "def file_size(filename):\n",
    "        import os\n",
    "        statinfo = os.stat(filename)\n",
    "        return statinfo.st_size\n",
    "\n",
    "print(\"File size in bytes of a plain file: \",file_size(\"DataFiles/contacts.txt\"))"
   ]
  },
  {
   "cell_type": "code",
   "execution_count": 9,
   "metadata": {},
   "outputs": [
    {
     "name": "stdout",
     "output_type": "stream",
     "text": [
      "Number of Words are: 6\n"
     ]
    }
   ],
   "source": [
    "def numberOfWords(filename):\n",
    "    no_of_words=0\n",
    "    with open(filename,'r')as f:\n",
    "        for line in f:\n",
    "            words=line.split()\n",
    "            no_of_words=no_of_words+len(words)\n",
    "        print(\"Number of Words are:\",no_of_words)\n",
    "numberOfWords(\"DataFiles/data.txt\")"
   ]
  },
  {
   "cell_type": "code",
   "execution_count": 43,
   "metadata": {},
   "outputs": [
    {
     "name": "stdout",
     "output_type": "stream",
     "text": [
      "1\n"
     ]
    }
   ],
   "source": [
    "def occurencesOfWord(filename,word):\n",
    "    count=0\n",
    "    with open(filename,'r') as f:\n",
    "        for line in f:\n",
    "            words=line.split()\n",
    "            for i in words:\n",
    "                if word==i:\n",
    "                    count=count+1\n",
    "        print(count)\n",
    "    return\n",
    "occurencesOfWord(\"DataFiles/data.txt\",\"LINE2\")"
   ]
  },
  {
   "cell_type": "code",
   "execution_count": 4,
   "metadata": {},
   "outputs": [
    {
     "name": "stdout",
     "output_type": "stream",
     "text": [
      "9\n"
     ]
    }
   ],
   "source": [
    "def uniqueWords(filename):\n",
    "    m=[]\n",
    "    with open(filename,'r') as f:\n",
    "        for line in f:\n",
    "            words=line.split()\n",
    "            for i in words:\n",
    "                if i not in m:\n",
    "                    m.append(i)\n",
    "        print(len(m))\n",
    "uniqueWords(\"DataFiles/data.txt\")"
   ]
  },
  {
   "cell_type": "code",
   "execution_count": 6,
   "metadata": {},
   "outputs": [
    {
     "name": "stdout",
     "output_type": "stream",
     "text": [
      "4\n"
     ]
    }
   ],
   "source": [
    "def numberOfLines(filename):\n",
    "    no_of_lines=0\n",
    "    with open(filename,'r') as f:\n",
    "        for line in f:\n",
    "            no_of_lines=no_of_lines+1\n",
    "    print(no_of_lines)\n",
    "numberOfLines(\"DataFiles/data.txt\")"
   ]
  },
  {
   "cell_type": "code",
   "execution_count": 1,
   "metadata": {},
   "outputs": [
    {
     "name": "stdout",
     "output_type": "stream",
     "text": [
      "Number of Characters are 23\n",
      "Number of Lines are 2\n"
     ]
    }
   ],
   "source": [
    "def charCount(filename):\n",
    "    char_count=0\n",
    "    spaces=0\n",
    "    line=0\n",
    "    with open(filename,'r') as f:\n",
    "        filedata=f.read()\n",
    "        for i in filedata:\n",
    "            if i==\" \":\n",
    "                spaces=spaces+1\n",
    "            elif i==\"\\n\":\n",
    "                line=line+1\n",
    "            else:\n",
    "                char_count=char_count+1\n",
    "    print(\"Number of Characters are\",char_count)\n",
    "    print(\"Number of Lines are\",line)\n",
    "charCount(\"DataFiles/data.txt\")"
   ]
  },
  {
   "cell_type": "code",
   "execution_count": null,
   "metadata": {},
   "outputs": [],
   "source": []
  },
  {
   "cell_type": "code",
   "execution_count": null,
   "metadata": {},
   "outputs": [],
   "source": []
  }
 ],
 "metadata": {
  "kernelspec": {
   "display_name": "Python 3",
   "language": "python",
   "name": "python3"
  },
  "language_info": {
   "codemirror_mode": {
    "name": "ipython",
    "version": 3
   },
   "file_extension": ".py",
   "mimetype": "text/x-python",
   "name": "python",
   "nbconvert_exporter": "python",
   "pygments_lexer": "ipython3",
   "version": "3.7.3"
  }
 },
 "nbformat": 4,
 "nbformat_minor": 2
}
