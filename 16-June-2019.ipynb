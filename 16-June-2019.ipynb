{
 "cells": [
  {
   "cell_type": "code",
   "execution_count": null,
   "metadata": {},
   "outputs": [],
   "source": []
  },
  {
   "cell_type": "code",
   "execution_count": 2,
   "metadata": {},
   "outputs": [],
   "source": [
    "def isPrime(n):\n",
    "    count=0\n",
    "    for i in range(1,n):\n",
    "        if n%i==0:\n",
    "            count=count+1\n",
    "    if count==1:\n",
    "        return True\n",
    "    return False"
   ]
  },
  {
   "cell_type": "code",
   "execution_count": null,
   "metadata": {},
   "outputs": [],
   "source": [
    "def primeChar(s):\n",
    "    for i in range(0,len(s)):\n",
    "        if isPrime(ord(s[i])):\n",
    "            print(s[i],end=\"\")\n",
    "        elif(ord(s[i])<=99 and ord(s[i])>97):\n",
    "            print(chr(97),end=\"\")\n",
    "        elif(ord(s[i])>99 and ord(s[i])<=102):\n",
    "            print(chr(101),end=\"\")\n",
    "        elif(ord(s[i])>103 and ord(s[i])<=105):\n",
    "            print(chr(103),end=\"\")\n",
    "        elif(ord(s[i])>105 and ord(s[i])<=108):\n",
    "            print(chr(107),end=\"\")\n",
    "        elif(ord(s[i])>109 and ord(s[i])<=111):\n",
    "            print(chr(109),end=\"\")\n",
    "        elif(ord(s[i])>111 and ord(s[i])<=122):\n",
    "            print(chr(113),end=\"\")\n",
    "primeChar(input())"
   ]
  },
  {
   "cell_type": "code",
   "execution_count": null,
   "metadata": {},
   "outputs": [],
   "source": [
    "def charprime(s):\n",
    "    for i in range(0,le):\n",
    "        if isPrime(ord(s[i])):\n",
    "            print(s[i],end=\"\")\n",
    "        elif(ord(s[i])<=69 and ord(s[i])>=65):\n",
    "            print(chr(67),end=\"\")\n",
    "        elif(ord(s[i])>69 and ord(s[i])<=72):\n",
    "            print(chr(71),end=\"\")\n",
    "        elif(ord(s[i])>73 and ord(s[i])<=76):\n",
    "            print(chr(73),end=\"\")\n",
    "        elif(ord(s[i])>76 and ord(s[i])<=81):\n",
    "            print(chr(79),end=\"\")\n",
    "        elif(ord(s[i])>81 and ord(s[i])<=86):\n",
    "            print(chr(83),end=\"\")\n",
    "        elif(ord(s[i])>86 and ord(s[i])<=90):\n",
    "            print(chr(89),end=\"\")\n",
    "t=int(input())\n",
    "le=int(input())\n",
    "for j in range(t):\n",
    "    charprime(input())"
   ]
  },
  {
   "cell_type": "markdown",
   "metadata": {},
   "source": [
    "##### "
   ]
  },
  {
   "cell_type": "code",
   "execution_count": null,
   "metadata": {},
   "outputs": [],
   "source": [
    "#Program to check whether the given number is perfect square or not\n",
    "\n",
    "def perfectSquare(n):\n",
    "    for i in range(1,n):\n",
    "        if n == (i*i):\n",
    "            return True\n",
    "def addOnePerfect(n):\n",
    "    if perfectSquare(n+1):\n",
    "        return True\n",
    "    else:\n",
    "        return False\n",
    "addOnePerfect(int(input()))"
   ]
  },
  {
   "cell_type": "code",
   "execution_count": null,
   "metadata": {},
   "outputs": [],
   "source": [
    "# Program to Check perfect square using addition/subtraction\n",
    "def perfectsquareusingAddSub(n):\n",
    "    sum=0\n",
    "    for i in range(1,n):\n",
    "        if i%2==1:\n",
    "            sum=sum+i\n",
    "            if n==sum:\n",
    "                return True\n",
    "                break\n",
    "            else:\n",
    "                return False\n",
    "                continue\n",
    "perfectsquareusingAddSub(int(input()))"
   ]
  },
  {
   "cell_type": "code",
   "execution_count": null,
   "metadata": {},
   "outputs": [],
   "source": []
  },
  {
   "cell_type": "code",
   "execution_count": null,
   "metadata": {},
   "outputs": [],
   "source": [
    "# smallest n digit number which is multiple of 5\n",
    "def smallestmultipleOfFive(n):\n",
    "    if n==1:\n",
    "        return 5\n",
    "    else:\n",
    "        return 10**(n-1)\n",
    "smallestmultipleOfFive(3)"
   ]
  },
  {
   "cell_type": "code",
   "execution_count": null,
   "metadata": {},
   "outputs": [],
   "source": []
  },
  {
   "cell_type": "code",
   "execution_count": null,
   "metadata": {},
   "outputs": [],
   "source": [
    "travelling = input(\"Are you travelling? Yes or No:\")\n",
    "while travelling == 'yes':\n",
    "   num = int(input(\"Enter the number of people travelling:\"))\n",
    "   for num in range(1,num+1):\n",
    "      name = input(\"Enter Details Name:\")\n",
    "      age = input(\"Age:\")\n",
    "      sex = input(\"Male or Female:\")\n",
    "      print(\"Details Stored\",name)\n",
    "      print(age)\n",
    "      print(sex)\n",
    "   print(\"Thank you!\")\n",
    "   travelling = input(\"Are you travelling? Yes or No:\")\n",
    "print(\"Please come back again.\")"
   ]
  },
  {
   "cell_type": "markdown",
   "metadata": {},
   "source": []
  },
  {
   "cell_type": "code",
   "execution_count": null,
   "metadata": {},
   "outputs": [],
   "source": [
    "    ans=1;\n",
    "    n=int(input())\n",
    "    li=[int(x) for x in input().split()]\n",
    "    for i in range(len(li)):\n",
    "        ans=(ans*li[i])%(10**9+7)\n",
    "    print(ans)"
   ]
  },
  {
   "cell_type": "code",
   "execution_count": null,
   "metadata": {},
   "outputs": [],
   "source": [
    "def product(li):\n",
    "    answer=1\n",
    "    for i in range(0,len(li)):\n",
    "        answer=(answer*li[i])%(10**9+7)\n",
    "    print(answer)\n",
    "n=int(input())\n",
    "li=[int(l) for l in input().split()]\n",
    "product(li)"
   ]
  },
  {
   "cell_type": "code",
   "execution_count": null,
   "metadata": {},
   "outputs": [],
   "source": [
    "ord('a')"
   ]
  },
  {
   "cell_type": "code",
   "execution_count": null,
   "metadata": {},
   "outputs": [],
   "source": [
    "def isPrime(n):\n",
    "    count=0\n",
    "    for i in range(1,n):\n",
    "        if n%i==0:\n",
    "            count=count+1\n",
    "    if count==1:\n",
    "        return True\n",
    "    return False\n",
    "def charprime(s):\n",
    "    for i in range(0,S):\n",
    "        if isPrime(ord(s[i])):\n",
    "            print(s[i],end=\"\")\n",
    "        elif(ord(s[i])<=69 and ord(s[i])>=65):\n",
    "            print(chr(67),end=\"\")\n",
    "        elif(ord(s[i])>69 and ord(s[i])<=72):\n",
    "            print(chr(71),end=\"\")\n",
    "        elif(ord(s[i])>73 and ord(s[i])<=76):\n",
    "            print(chr(73),end=\"\")\n",
    "        elif(ord(s[i])>76 and ord(s[i])<=81):\n",
    "            print(chr(79),end=\"\")\n",
    "        elif(ord(s[i])>81 and ord(s[i])<=86):\n",
    "            print(chr(83),end=\"\")\n",
    "        elif(ord(s[i])>86 and ord(s[i])<=90):\n",
    "            print(chr(89),end=\"\")\n",
    "        elif(ord(s[i])<=99 and ord(s[i])>97):\n",
    "            print(chr(97),end=\"\")\n",
    "        elif(ord(s[i])>99 and ord(s[i])<=102):\n",
    "            print(chr(101),end=\"\")\n",
    "        elif(ord(s[i])>103 and ord(s[i])<=105):\n",
    "            print(chr(103),end=\"\")\n",
    "        elif(ord(s[i])>105 and ord(s[i])<=108):\n",
    "            print(chr(107),end=\"\")\n",
    "        elif(ord(s[i])>109 and ord(s[i])<=111):\n",
    "            print(chr(109),end=\"\")\n",
    "        elif(ord(s[i])>111 and ord(s[i])<=122):\n",
    "            print(chr(113),end=\"\")\n",
    "T=int(input())\n",
    "for j in range(T):\n",
    "    S=int(input())\n",
    "    charprime(input())"
   ]
  },
  {
   "cell_type": "code",
   "execution_count": null,
   "metadata": {},
   "outputs": [],
   "source": [
    "ord('@')"
   ]
  },
  {
   "cell_type": "code",
   "execution_count": null,
   "metadata": {},
   "outputs": [],
   "source": [
    "def product(n,li):\n",
    "    prod=1\n",
    "    for i in range(1,n+1):\n",
    "        prod=(prod*i)%(10**9+7)\n",
    "    print(prod)\n",
    "n=int(input())\n",
    "li=[int(j) for j in input().split()]\n",
    "product(n,li)"
   ]
  },
  {
   "cell_type": "code",
   "execution_count": null,
   "metadata": {},
   "outputs": [],
   "source": [
    "def product(l):\n",
    "    prod=1\n",
    "    for i in l:\n",
    "        prod=(prod*int(i))%(10**9+7)\n",
    "    print(prod)\n",
    "n=int(input())\n",
    "l = input().split(\" \")\n",
    "product(l)"
   ]
  },
  {
   "cell_type": "code",
   "execution_count": null,
   "metadata": {},
   "outputs": [],
   "source": [
    "#CIPHHER\n",
    "\n",
    "    s=str(input())\n",
    "    n=int(input())\n",
    "    nc=\"-,;%\"\n",
    "    for i in s:\n",
    "        if i in \"abcdefghijklmnopqrstuvwxyzABCDEFGHIJKLMNOPQRSTUVWXYZ\":\n",
    "            j=ord(i)\n",
    "            if j<ord('a'):\n",
    "                j=j-ord('A')\n",
    "                print(chr(((j+n)%26)+ord('A')),end=\"\")\n",
    "            else:\n",
    "                j=j-ord('a')\n",
    "                print(chr(((j+n)%26)+ord('a')),end=\"\")\n",
    "        elif i in \"0123456789\":\n",
    "            j=ord(i)-ord('0')\n",
    "            j=(j+n)%10\n",
    "            print(chr(j+ord('0')),end=\"\")\n",
    "        else:\n",
    "            print(i,end=\"\")"
   ]
  },
  {
   "cell_type": "code",
   "execution_count": null,
   "metadata": {},
   "outputs": [],
   "source": []
  },
  {
   "cell_type": "code",
   "execution_count": null,
   "metadata": {},
   "outputs": [],
   "source": [
    "    n=int(input())\n",
    "    minskill=int(input())\n",
    "    for i in range(n):\n",
    "        x=int(input())\n",
    "        if(x>=minskill):\n",
    "            print(\"YES\")\n",
    "        else:\n",
    "            print(\"NO\")"
   ]
  },
  {
   "cell_type": "code",
   "execution_count": null,
   "metadata": {},
   "outputs": [],
   "source": []
  },
  {
   "cell_type": "code",
   "execution_count": null,
   "metadata": {},
   "outputs": [],
   "source": [
    "def skillFrnd(y):\n",
    "    if(y>=x):\n",
    "        print(\"YES\")\n",
    "    else:\n",
    "        print(\"NO\")\n",
    "n=int(input())\n",
    "x=int(input())\n",
    "for i in range(1,n+1):\n",
    "    y=int(input())\n",
    "    skillFrnd(y)"
   ]
  },
  {
   "cell_type": "code",
   "execution_count": null,
   "metadata": {},
   "outputs": [],
   "source": [
    "def bookOfPortionMaking(isbn):\n",
    "    res=0\n",
    "    j=1\n",
    "    if len(isbn)!=10:\n",
    "        print(\"Illegal ISBN\")\n",
    "    else:\n",
    "        for i in isbn:\n",
    "            res+=j*int(i)\n",
    "            j+=1\n",
    "        if res%11==0:\n",
    "            print('Legal ISBN')\n",
    "        else:\n",
    "            print('Illegal ISBN')\n",
    "isbn=input()\n",
    "bookOfPortionMaking(isbn)"
   ]
  },
  {
   "cell_type": "code",
   "execution_count": null,
   "metadata": {},
   "outputs": [],
   "source": [
    "def helpTruck(tag):\n",
    "        sum=int(tag[0])+int(tag[1])\n",
    "        sum2=int(tag[3])+int(tag[4])\n",
    "        sum3=int(tag[4])+int(tag[5])\n",
    "        sum4=int(tag[7])+int(tag[8])\n",
    "        if sum%2==0 and sum2%2==0 and sum3%2==0 and sum4%2==0:\n",
    "            if tag[2] not in vowels:\n",
    "                print(\"valid\")\n",
    "        else:\n",
    "            print(\"invalid\")\n",
    "vowels=['A','E','I','O','U','Y']\n",
    "helpTruck(input())"
   ]
  },
  {
   "cell_type": "code",
   "execution_count": null,
   "metadata": {},
   "outputs": [],
   "source": [
    "def uploadPhoto(w,h):\n",
    "    if w==l and h==l:\n",
    "        print(\"ACCEPTED\")\n",
    "    elif w<l or h<l:\n",
    "        print(\"UPLOAD ANOTHER\")\n",
    "    else:\n",
    "        print(\"CROP IT\")\n",
    "l=int(input())\n",
    "n=int(input())\n",
    "for i in range(n):\n",
    "    w,h=input().split()\n",
    "    uploadPhoto(int(w),int(h))"
   ]
  },
  {
   "cell_type": "code",
   "execution_count": null,
   "metadata": {},
   "outputs": [],
   "source": [
    "def uploadPhoto(w,h):\n",
    "    if w==h or w==h==l:\n",
    "        print(\"ACCEPTED\")\n",
    "    elif w<l or h<l:\n",
    "        print(\"UPLOAD ANOTHER\")\n",
    "    else:\n",
    "        print(\"CROP IT\")\n",
    "l=int(input())\n",
    "n=int(input())\n",
    "for i in range(n):\n",
    "    w,h=input().split()\n",
    "    uploadPhoto(int(w),int(h))"
   ]
  },
  {
   "cell_type": "code",
   "execution_count": 5,
   "metadata": {},
   "outputs": [
    {
     "name": "stdout",
     "output_type": "stream",
     "text": [
      "2\n",
      "3\n",
      "A\n",
      "5\n",
      "A\n"
     ]
    }
   ],
   "source": [
    "t=int(input())\n",
    "A=0\n",
    "B=7\n",
    "for i in range(t):\n",
    "    n=input()\n",
    "    if B-int(n) >= int(n)-A:\n",
    "        print(\"A\")\n",
    "        A=int(n)\n",
    "    else:\n",
    "        print(\"B\")\n",
    "        B=int(n)"
   ]
  },
  {
   "cell_type": "code",
   "execution_count": null,
   "metadata": {},
   "outputs": [],
   "source": []
  }
 ],
 "metadata": {
  "kernelspec": {
   "display_name": "Python 3",
   "language": "python",
   "name": "python3"
  },
  "language_info": {
   "codemirror_mode": {
    "name": "ipython",
    "version": 3
   },
   "file_extension": ".py",
   "mimetype": "text/x-python",
   "name": "python",
   "nbconvert_exporter": "python",
   "pygments_lexer": "ipython3",
   "version": "3.7.3"
  }
 },
 "nbformat": 4,
 "nbformat_minor": 2
}
