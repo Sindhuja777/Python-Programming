{
 "cells": [
  {
   "cell_type": "code",
   "execution_count": null,
   "metadata": {},
   "outputs": [],
   "source": [
    "#Count Divisors\n",
    "def countDivisors(l,r,k):\n",
    "    count=0\n",
    "    for i in range(l,r+1):\n",
    "        if i%k==0:\n",
    "            count=count+1\n",
    "        print(count)\n",
    "l,r,k=input().split()\n",
    "countDivisors(int(l),int(r),int(k))"
   ]
  },
  {
   "cell_type": "code",
   "execution_count": null,
   "metadata": {},
   "outputs": [],
   "source": []
  },
  {
   "cell_type": "code",
   "execution_count": null,
   "metadata": {},
   "outputs": [],
   "source": [
    "#Factorial\n",
    "def factorial(n):\n",
    "    fact=1\n",
    "    for i in range(1,n+1):\n",
    "        fact=fact*i\n",
    "    print(fact)\n",
    "n=int(input())\n",
    "factorial(n)"
   ]
  },
  {
   "cell_type": "code",
   "execution_count": null,
   "metadata": {},
   "outputs": [],
   "source": []
  },
  {
   "cell_type": "code",
   "execution_count": null,
   "metadata": {},
   "outputs": [],
   "source": [
    "# Toggle String\n",
    "def toggleString(s):\n",
    "    for i in range(0,len(s)):\n",
    "        if s[i].isupper():\n",
    "            print(s[i].lower(),end=\"\")\n",
    "        elif s[i].islower:\n",
    "            print(s[i].upper(),end=\"\")\n",
    "toggleString(input())"
   ]
  },
  {
   "cell_type": "code",
   "execution_count": null,
   "metadata": {},
   "outputs": [],
   "source": []
  },
  {
   "cell_type": "code",
   "execution_count": null,
   "metadata": {},
   "outputs": [],
   "source": [
    "#Palindrome String\n",
    "def palindromeString(s):\n",
    "    if s[::-1] == s:\n",
    "        print(\"YES\")\n",
    "    else:\n",
    "        print(\"NO\")\n",
    "palindromeString(input())"
   ]
  },
  {
   "cell_type": "code",
   "execution_count": null,
   "metadata": {},
   "outputs": [],
   "source": []
  },
  {
   "cell_type": "code",
   "execution_count": null,
   "metadata": {},
   "outputs": [],
   "source": [
    "# First N Prime numbers\n",
    "def prime_number(n):\n",
    "    for i in range(1,n+1):\n",
    "        count=0\n",
    "        for j in range(1,i+1):\n",
    "            if i%j == 0:\n",
    "                count=count+1\n",
    "        if count==2:\n",
    "            print(i,end=\" \")\n",
    "n=input()\n",
    "prime_number(int(n))"
   ]
  },
  {
   "cell_type": "code",
   "execution_count": null,
   "metadata": {},
   "outputs": [],
   "source": []
  },
  {
   "cell_type": "code",
   "execution_count": null,
   "metadata": {},
   "outputs": [],
   "source": [
    "#Two strings\n",
    "def twoStrings(li1,li2):\n",
    "    if li1 == li2:\n",
    "        print(\"YES\")\n",
    "    else:\n",
    "        print(\"NO\")\n",
    "for l in range(1,int(input())+1):\n",
    "    li1,li2=input().split()\n",
    "    twoStrings(sorted(li1),sorted(li2))"
   ]
  },
  {
   "cell_type": "code",
   "execution_count": null,
   "metadata": {},
   "outputs": [],
   "source": []
  },
  {
   "cell_type": "code",
   "execution_count": null,
   "metadata": {},
   "outputs": [],
   "source": [
    "# Char Sum\n",
    "def weightOfAlphabet(s):\n",
    "    sum=0\n",
    "    for i in range(0,len(s)):\n",
    "        w=ord(s[i])-96\n",
    "        sum=sum+w\n",
    "    print(sum)\n",
    "s=input()\n",
    "weightOfAlphabet(s)"
   ]
  },
  {
   "cell_type": "code",
   "execution_count": null,
   "metadata": {},
   "outputs": [],
   "source": []
  },
  {
   "cell_type": "code",
   "execution_count": null,
   "metadata": {},
   "outputs": [],
   "source": [
    "# Duration\n",
    "def duration(starthour,startminute,endhour,endminute):\n",
    "    stime=starthour*60+startminute\n",
    "    etime=endhour*60+endminute\n",
    "    totaltime=abs(etime-stime)\n",
    "    if totaltime<60:\n",
    "        print(0,end=\" \")\n",
    "        print(totaltime)\n",
    "    elif totaltime>=60:\n",
    "        h=totaltime//60\n",
    "        m=totaltime%60\n",
    "        print(abs(h), end=\" \")\n",
    "        print(m)\n",
    "n=int(input())\n",
    "for t in range(0,n):\n",
    "    starthour,startminute,endhour,endminute =input().split()\n",
    "    duration(int(starthour),int(startminute),int(endhour),int(endminute))"
   ]
  },
  {
   "cell_type": "code",
   "execution_count": null,
   "metadata": {},
   "outputs": [],
   "source": []
  },
  {
   "cell_type": "code",
   "execution_count": null,
   "metadata": {},
   "outputs": [],
   "source": [
    "# Play with Numbers\n",
    "# Read no of array elements and no of queries\n",
    "n=input().split()\n",
    "n[0],n[1]=int(n[0]),int(n[1])\n",
    "#Read array elements\n",
    "a=input().split()\n",
    "sum = [] #Initialize cumulative sum array\n",
    "\n",
    "#Cumulative sum\n",
    "for i in range(0,n[0]):\n",
    "    if i==0:\n",
    "        sum.append(int(a[i]))\n",
    "    else:\n",
    "        sum.append(int(sum[i-1])+int(a[i]))\n",
    "del a\n",
    "#Read each query and calculate the average\n",
    "for i in range(0,n[1]):\n",
    "    inq=input().split()\n",
    "    i=int(inq[0])\n",
    "    j=int(inq[1])\n",
    "    if i > 1:\n",
    "        print((sum[j-1] - sum[i-2]) //(j-i+1))\n",
    "    else:\n",
    "        print(sum[j-1] // (j-i+1))"
   ]
  }
 ],
 "metadata": {
  "kernelspec": {
   "display_name": "Python 3",
   "language": "python",
   "name": "python3"
  },
  "language_info": {
   "codemirror_mode": {
    "name": "ipython",
    "version": 3
   },
   "file_extension": ".py",
   "mimetype": "text/x-python",
   "name": "python",
   "nbconvert_exporter": "python",
   "pygments_lexer": "ipython3",
   "version": "3.7.3"
  }
 },
 "nbformat": 4,
 "nbformat_minor": 2
}
