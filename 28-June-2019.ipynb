{
 "cells": [
  {
   "cell_type": "markdown",
   "metadata": {},
   "source": [
    "## Day Objectives\n",
    "### Date : 28 June 2019\n",
    "\n",
    "- Map\n",
    "- Lambda\n",
    "- Filter\n",
    "- Use Cases - File / Data Encryption"
   ]
  },
  {
   "cell_type": "markdown",
   "metadata": {},
   "source": [
    "## Map\n",
    "- Map Represents Mappign values like a relation between a particular entity and a function\n",
    "- Mapping  ->Entity with Function\n",
    "- f : x^2   and x :[1-10]\n",
    "- f(x)  --> f(1) = 13, f(2) = 19 .....\n",
    "\n",
    "\n",
    "- y=f(x)\n",
    "   \n",
    "-  f:x^2\n",
    "- x      y\n",
    "- 1      1\n",
    "- 2      4\n",
    "- 3      9\n",
    "- 4     16\n",
    "- 5     25\n",
    "- 6     36\n",
    "- 7     49\n",
    "- 8     64\n",
    "- 9     81\n",
    "- 10   100\n",
    "\n",
    "- map( function, Iterable )\n",
    "- Map is a function which takes function and iterable as arguments and return the results"
   ]
  },
  {
   "cell_type": "code",
   "execution_count": null,
   "metadata": {},
   "outputs": [],
   "source": []
  },
  {
   "cell_type": "code",
   "execution_count": 123,
   "metadata": {},
   "outputs": [
    {
     "data": {
      "text/plain": [
       "1024"
      ]
     },
     "execution_count": 123,
     "metadata": {},
     "output_type": "execute_result"
    }
   ],
   "source": [
    "def powerN(a,n):\n",
    "    #return a**n\n",
    "    r=1\n",
    "    for i in range(n):\n",
    "        r*=a\n",
    "    return r\n",
    "powerN(2,10)\n",
    "\n",
    "# Recusion Function to find power of a given number\n",
    "def recursivePowerN(a,n):\n",
    "    if n==0:\n",
    "        return 1\n",
    "    else:\n",
    "        return a*recursivePowerN(a,n-1)\n",
    "recursivePowerN(2,10)   "
   ]
  },
  {
   "cell_type": "code",
   "execution_count": 3,
   "metadata": {},
   "outputs": [
    {
     "data": {
      "text/plain": [
       "[1, 8, 27, 64, 125, 216]"
      ]
     },
     "execution_count": 3,
     "metadata": {},
     "output_type": "execute_result"
    }
   ],
   "source": [
    "def cube(n):\n",
    "    return n**3\n",
    "\n",
    "li=[1,2,3,4,5,6]\n",
    "\n",
    "set(map(cube,li))\n",
    "\n",
    "\n",
    "li2=['1','2','3','4','5','6']\n",
    "\n",
    "li3=list(map(int,li2))\n",
    "li3\n",
    "\n",
    "li4=list(map(float,li2))\n",
    "li4\n",
    "\n",
    "tuple(map(float,li3))\n",
    "\n",
    "\n",
    "numbers = [int(i) for i in li]\n",
    "\n",
    "[cube(i) for i in numbers]"
   ]
  },
  {
   "cell_type": "markdown",
   "metadata": {},
   "source": [
    "## Filter\n",
    "\n",
    "- Used to check boolean true values"
   ]
  },
  {
   "cell_type": "code",
   "execution_count": 125,
   "metadata": {},
   "outputs": [
    {
     "data": {
      "text/plain": [
       "[1, 2, 3, 4]"
      ]
     },
     "execution_count": 125,
     "metadata": {},
     "output_type": "execute_result"
    }
   ],
   "source": [
    "li=[1,2,'a','b',3,4,'c']\n",
    "def isDigit(c):\n",
    "    c=str(c)\n",
    "    if c.isdigit():\n",
    "        return 1\n",
    "    return 0\n",
    "#isDigit('a')\n",
    "list(filter(isDigit, li))"
   ]
  },
  {
   "cell_type": "code",
   "execution_count": 128,
   "metadata": {},
   "outputs": [
    {
     "data": {
      "text/plain": [
       "[503, 509, 521, 523, 541, 547, 557, 563, 569, 571, 577, 587, 593, 599]"
      ]
     },
     "execution_count": 128,
     "metadata": {},
     "output_type": "execute_result"
    }
   ],
   "source": [
    "# Identify the prime numbers in a given range using filter\n",
    "def isPrime(n):\n",
    "    if n<2:\n",
    "        return False\n",
    "    for i in range(2,n//2+1):\n",
    "        if n % i==0:\n",
    "            return False\n",
    "    return True\n",
    "lb,ub =500,600\n",
    "primelist = list(filter(isPrime,range(lb,ub)))\n",
    "primelist\n",
    "\n",
    "# Using list comprehension\n",
    "primelist2=[i for i in range(lb,ub+1) if isPrime(i)]\n",
    "primelist2"
   ]
  },
  {
   "cell_type": "code",
   "execution_count": null,
   "metadata": {},
   "outputs": [],
   "source": []
  },
  {
   "cell_type": "markdown",
   "metadata": {},
   "source": [
    "## Lambda\n",
    "\n",
    "- It is a key word in python\n",
    "- It is implemented at different levels in python\n",
    "- Anonymous Functions means unknown Functions which don't have names to know their names we use lambda\n",
    "- Can be embedded into Iterables, List Comprehension, Maps, Filters"
   ]
  },
  {
   "cell_type": "code",
   "execution_count": null,
   "metadata": {},
   "outputs": [],
   "source": []
  },
  {
   "cell_type": "code",
   "execution_count": 14,
   "metadata": {},
   "outputs": [
    {
     "data": {
      "text/plain": [
       "True"
      ]
     },
     "execution_count": 14,
     "metadata": {},
     "output_type": "execute_result"
    }
   ],
   "source": [
    "# To check a given number is even or odd\n",
    "a = lambda x: x%2==0\n",
    "a(4)"
   ]
  },
  {
   "cell_type": "code",
   "execution_count": 21,
   "metadata": {},
   "outputs": [
    {
     "data": {
      "text/plain": [
       "[1, 3, 5, 7]"
      ]
     },
     "execution_count": 21,
     "metadata": {},
     "output_type": "execute_result"
    }
   ],
   "source": [
    "# Lambda function for cubes of a given number\n",
    "a = lambda x: x ** 3\n",
    "a(3)\n",
    "\n",
    "# cubes of a given list using map\n",
    "list(map(lambda x:x**3, [1,2,3,4,5,6]))\n",
    "\n",
    "# Even numebrs using filter\n",
    "list(filter(lambda x:x%2==0, [1,2,3,4,5,6]))\n",
    "\n",
    "list(filter(lambda x:x%2,[1,2,3,4,5,6,7]))"
   ]
  },
  {
   "cell_type": "code",
   "execution_count": 62,
   "metadata": {},
   "outputs": [
    {
     "data": {
      "text/plain": [
       "[]"
      ]
     },
     "execution_count": 62,
     "metadata": {},
     "output_type": "execute_result"
    }
   ],
   "source": [
    "from random import randint\n",
    "internal1 = [randint(0,25) for i in range(10)]\n",
    "internal2 = [randint(0,25) for i in range(10)]\n",
    "\n",
    "averageinternal = list(map(lambda x,y:(x+y)//2,internal1,internal2))\n",
    "\n",
    "failedmarks = list(filter(lambda x:x<10,averageinternal))\n",
    "failedmarks"
   ]
  },
  {
   "cell_type": "markdown",
   "metadata": {},
   "source": [
    "### Applying Functional Programming to the Marks Analysis Application"
   ]
  },
  {
   "cell_type": "code",
   "execution_count": 22,
   "metadata": {},
   "outputs": [],
   "source": [
    "# Generate Marks data\n",
    "from random import randint\n",
    "\n",
    "def generateMarks(n, lb, ub):\n",
    "    filename = 'DataFiles/marks.txt'\n",
    "    with open(filename,'w') as f:\n",
    "        for i in range(n):\n",
    "            marks = randint(lb,ub)\n",
    "            f.write(str(marks) +'\\n')\n",
    "    return\n",
    "generateMarks(300,0,100)"
   ]
  },
  {
   "cell_type": "code",
   "execution_count": 23,
   "metadata": {},
   "outputs": [
    {
     "data": {
      "text/plain": [
       "48"
      ]
     },
     "execution_count": 23,
     "metadata": {},
     "output_type": "execute_result"
    }
   ],
   "source": [
    "# Marks Analysis\n",
    "# Class Average\n",
    "# % Passed , Failed, and Distinction.\n",
    "# Frequency of highest and lowest mark.\n",
    "\n",
    "def classAverage(filename):\n",
    "    with open(filename, 'r') as f:\n",
    "        filedata =f.read().split()\n",
    "        markslist = list(map(int, filedata))\n",
    "        return sum(markslist)//len(markslist)\n",
    "filename = \"DataFiles/marks.txt\"\n",
    "classAverage(filename)"
   ]
  },
  {
   "cell_type": "code",
   "execution_count": 29,
   "metadata": {},
   "outputs": [],
   "source": [
    "def readMarksList(filename):\n",
    "    filename = \"DataFiles/marks.txt\"\n",
    "    with open(filename, 'r') as f:\n",
    "        filedata = f.read().split()\n",
    "    return list(map(int, filedata))"
   ]
  },
  {
   "cell_type": "code",
   "execution_count": 32,
   "metadata": {},
   "outputs": [
    {
     "data": {
      "text/plain": [
       "56.00000000000001"
      ]
     },
     "execution_count": 32,
     "metadata": {},
     "output_type": "execute_result"
    }
   ],
   "source": [
    "def percentagePassed(filename):\n",
    "    markslist = readMarksList(filename)\n",
    "    passedcount = len(list(filter(lambda mark:mark>40 ,markslist)))\n",
    "    return (passedcount/len(markslist)*100)\n",
    "filename = \"DataFiles/marks.txt\"\n",
    "percentagePassed(filename)        "
   ]
  },
  {
   "cell_type": "code",
   "execution_count": 33,
   "metadata": {},
   "outputs": [
    {
     "data": {
      "text/plain": [
       "43.99999999999999"
      ]
     },
     "execution_count": 33,
     "metadata": {},
     "output_type": "execute_result"
    }
   ],
   "source": [
    "def percentageFailed(filename):\n",
    "    return 100 - percentagePassed(filename)\n",
    "percentageFailed(filename)"
   ]
  },
  {
   "cell_type": "code",
   "execution_count": 35,
   "metadata": {},
   "outputs": [
    {
     "data": {
      "text/plain": [
       "56.00000000000001"
      ]
     },
     "execution_count": 35,
     "metadata": {},
     "output_type": "execute_result"
    }
   ],
   "source": [
    "def percentageDistinction(filename):\n",
    "    markslist = readMarksList(filename)\n",
    "    distinctioncount = len(list(filter(lambda mark:mark>70 ,markslist)))\n",
    "    return (distinctioncount/len(markslist)*100)\n",
    "filename = \"DataFiles/marks.txt\"\n",
    "percentagePassed(filename)        "
   ]
  },
  {
   "cell_type": "code",
   "execution_count": 36,
   "metadata": {},
   "outputs": [
    {
     "data": {
      "text/plain": [
       "3"
      ]
     },
     "execution_count": 36,
     "metadata": {},
     "output_type": "execute_result"
    }
   ],
   "source": [
    "def highestMarkFrequency(filename):\n",
    "    markslist = readMarksList(filename)\n",
    "    return markslist.count(max(markslist))\n",
    "highestMarkFrequency(filename)"
   ]
  },
  {
   "cell_type": "code",
   "execution_count": 37,
   "metadata": {},
   "outputs": [
    {
     "data": {
      "text/plain": [
       "2"
      ]
     },
     "execution_count": 37,
     "metadata": {},
     "output_type": "execute_result"
    }
   ],
   "source": [
    "def lowestMarkFrequency(filename):\n",
    "    markslist = readMarksList(filename)\n",
    "    return markslist.count(min(markslist))\n",
    "lowestMarkFrequency(filename)"
   ]
  },
  {
   "cell_type": "markdown",
   "metadata": {},
   "source": [
    "## Data Encryption\n",
    "\n",
    "- Key plays a vital role in data encryption\n",
    "- Key represents Mapping of character with replaced characters\n",
    "- Key will be used for encryption and decryption aswell"
   ]
  },
  {
   "cell_type": "markdown",
   "metadata": {},
   "source": [
    "0 -> 4\n",
    "1 -> 5\n",
    "2 -> 6\n",
    "3 -> 7\n",
    "4 -> 8\n",
    "5 -> 9\n",
    "6 -> 0\n",
    "7 -> 1\n",
    "8 -> 2\n",
    "9 -> 3"
   ]
  },
  {
   "cell_type": "code",
   "execution_count": 42,
   "metadata": {},
   "outputs": [],
   "source": [
    "# Function to generate key for encryption\n",
    "keypath = \"DataFiles/key.txt\"\n",
    "\n",
    "def generate(keypath):\n",
    "    with open(keypath, 'w') as f:\n",
    "        for i in range(10):\n",
    "            if i<6:\n",
    "                f.write(str(i)+ ' ' + str(i+4)+'\\n')\n",
    "            else:\n",
    "                f.write(str(i)+ ' ' + str(i-6)+ '\\n')\n",
    "    return\n",
    "generate(keypath)"
   ]
  },
  {
   "cell_type": "code",
   "execution_count": 45,
   "metadata": {},
   "outputs": [
    {
     "data": {
      "text/plain": [
       "{'0': '4',\n",
       " '1': '5',\n",
       " '2': '6',\n",
       " '3': '7',\n",
       " '4': '8',\n",
       " '5': '9',\n",
       " '6': '0',\n",
       " '7': '1',\n",
       " '8': '2',\n",
       " '9': '3'}"
      ]
     },
     "execution_count": 45,
     "metadata": {},
     "output_type": "execute_result"
    }
   ],
   "source": [
    "# Function to encrypt a data file \n",
    "keyfile = \"DataFiles/key.txt\"\n",
    "def dictionaryKeyFile(keyfile):\n",
    "    key = {}\n",
    "    with open(keyfile, 'r') as f:\n",
    "        for line in f:\n",
    "            line = line.split()\n",
    "            key[line[0]] = line[1]\n",
    "    return key\n",
    "dictionaryKeyFile(keyfile)\n",
    "#def encryptMarksData(datafile, keyfile):\n",
    "    # Construct a dictionary for key data\n",
    "    "
   ]
  },
  {
   "cell_type": "code",
   "execution_count": null,
   "metadata": {},
   "outputs": [],
   "source": []
  }
 ],
 "metadata": {
  "kernelspec": {
   "display_name": "Python 3",
   "language": "python",
   "name": "python3"
  },
  "language_info": {
   "codemirror_mode": {
    "name": "ipython",
    "version": 3
   },
   "file_extension": ".py",
   "mimetype": "text/x-python",
   "name": "python",
   "nbconvert_exporter": "python",
   "pygments_lexer": "ipython3",
   "version": "3.7.3"
  }
 },
 "nbformat": 4,
 "nbformat_minor": 2
}
