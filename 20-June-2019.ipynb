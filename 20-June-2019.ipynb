{
 "cells": [
  {
   "cell_type": "markdown",
   "metadata": {},
   "source": [
    "## Day Objectives:\n",
    "## 20 June 2019\n",
    "\n",
    "- Regular Expressions\n",
    "    - Constructing Regular Expression for various use cases\n",
    "    - Regular Expressions Module and related in Python\n",
    "    - Improving the Contacts application with name and phone number validation as \n",
    "- File handling\n",
    "    - Text Files\n",
    "    - Upgrading the Contacts Application to store contact information in a text file"
   ]
  },
  {
   "cell_type": "code",
   "execution_count": null,
   "metadata": {},
   "outputs": [],
   "source": []
  },
  {
   "cell_type": "markdown",
   "metadata": {},
   "source": [
    "## Regular Expressions\n",
    "\n",
    "- Pattern Matching\n",
    "- Symbolic Notation of a pattern\n",
    "    - Pattern : Format which repeats \n",
    "    - Pattern(RE) represents the set of all values which matches a pattern\n",
    "- EXAMPLE : [0-9] --> Any digit\n",
    "\n",
    "- [a-z] --> Any lower case alphabet\n",
    "\n",
    "- [2468] --> All single digit multiples of 2\n",
    "\n",
    "- ^[0-9]{1}$ --> Only single digit numbers\n",
    "\n",
    "-  ^[0-9]{2}$ -->Only two digit numbers\n",
    "\n",
    "-  ^[0-9]{n}$ --> Accept only n digit numbers\n",
    "\n",
    "-  ^[1-9][0-9]*0$  --> All multiples of 10\n",
    "\n",
    "-  ^([1-9][0-9]*[05])$|^([5])$  --> All multiples of 5\n",
    "\n",
    "-  ^[0-9]{10}$        --> All 10 digit numbers\n",
    "\n",
    "-  ^[6-9][0-9]{9}$|^[0][6-9][0-9]{9}$|^[+][9][1][6-9][0-9]{9}$  --> Validating phone number(start with 9876 followed by 9 digits)\n",
    "\n",
    "- Email validation(username@domain.extension)\n",
    "    - username\n",
    "        - Length of username :[6,15]\n",
    "        - No special characters other than _ . are allowed\n",
    "        - Should ot begin and end with _ .\n",
    "        - Character Set : all digits and alphabet\n",
    "    - domain\n",
    "        - Length of domain : [3,18]\n",
    "        - No special characters\n",
    "        - Character set : all digits and alphabet\n",
    "    - extension\n",
    "        - Length of extension : [2,4]\n",
    "        - No special characters\n",
    "        - Character set : only alphabet\n",
    " - ^[0-9a-z][0-9a-z_.]{4,13}[0-9a-z][@][a-z0-9]{3,18}[.][a-z]{2,4}$"
   ]
  },
  {
   "cell_type": "code",
   "execution_count": null,
   "metadata": {},
   "outputs": [],
   "source": [
    "# Regular Expression to accept starts with 'a' and ends with 's' annd length will be 5"
   ]
  },
  {
   "cell_type": "code",
   "execution_count": 14,
   "metadata": {},
   "outputs": [
    {
     "name": "stdout",
     "output_type": "stream",
     "text": [
      "9912635647\n",
      "Valid Number\n"
     ]
    },
    {
     "data": {
      "text/plain": [
       "True"
      ]
     },
     "execution_count": 14,
     "metadata": {},
     "output_type": "execute_result"
    }
   ],
   "source": [
    "# Function to validate a phone number\n",
    "import re\n",
    "def phoneNumberValidator(phonenum):\n",
    "    pattern='^[6-9][0-9]{9}$|^[0][6-9][0-9]{9}$|^[+][9][1][6-9][0-9]{9}$'\n",
    "    if re.match(pattern,str(phonenum)):\n",
    "        print(\"Valid Number\")\n",
    "    else:\n",
    "        print(\"Invalid Number\")\n",
    "    return\n",
    "phoneNumberValidator(input())\n",
    "\n",
    "def emailValidator(email):\n",
    "    pattern='^[0-9a-z][0-9a-z_.]{4,13}[0-9a-z][@][a-z0-9]{3,18}[.][a-z]{2,4}$'\n",
    "    if re.match(pattern,email):\n",
    "        return True\n",
    "    return False\n",
    "emailValidator(\"sindhu_662@gmail.com\")"
   ]
  },
  {
   "cell_type": "code",
   "execution_count": 15,
   "metadata": {},
   "outputs": [
    {
     "ename": "TypeError",
     "evalue": "addContact() missing 3 required positional arguments: 'name', 'phonenum', and 'email'",
     "output_type": "error",
     "traceback": [
      "\u001b[1;31m---------------------------------------------------------------------------\u001b[0m",
      "\u001b[1;31mTypeError\u001b[0m                                 Traceback (most recent call last)",
      "\u001b[1;32m<ipython-input-15-0d2f4cfaa0fb>\u001b[0m in \u001b[0;36m<module>\u001b[1;34m\u001b[0m\n\u001b[0;32m     14\u001b[0m         \u001b[0mcontacts\u001b[0m\u001b[1;33m[\u001b[0m\u001b[0mname\u001b[0m\u001b[1;33m]\u001b[0m \u001b[1;33m=\u001b[0m \u001b[0mnewcontact\u001b[0m\u001b[1;33m\u001b[0m\u001b[1;33m\u001b[0m\u001b[0m\n\u001b[0;32m     15\u001b[0m     \u001b[1;32mreturn\u001b[0m\u001b[1;33m\u001b[0m\u001b[1;33m\u001b[0m\u001b[0m\n\u001b[1;32m---> 16\u001b[1;33m \u001b[0maddContact\u001b[0m\u001b[1;33m(\u001b[0m\u001b[1;33m)\u001b[0m\u001b[1;33m\u001b[0m\u001b[1;33m\u001b[0m\u001b[0m\n\u001b[0m",
      "\u001b[1;31mTypeError\u001b[0m: addContact() missing 3 required positional arguments: 'name', 'phonenum', and 'email'"
     ]
    }
   ],
   "source": [
    "def addContact(name,phonenum,email):\n",
    "    if name in contacts:\n",
    "        print(name, \"Already Exists.\")\n",
    "    else:\n",
    "        if not phoneNumberValidator(phonenum):\n",
    "            print(\"Invalid Phone number\")\n",
    "            return\n",
    "        if not emailValidator(email):\n",
    "            print(\"Invalid Email address\")\n",
    "            return\n",
    "        newcontact = []\n",
    "        newcontact.append(phonenum)\n",
    "        newcontact.append(email)\n",
    "        contacts[name] = newcontact\n",
    "    return\n",
    "addContact()"
   ]
  },
  {
   "cell_type": "code",
   "execution_count": null,
   "metadata": {},
   "outputs": [],
   "source": []
  },
  {
   "cell_type": "code",
   "execution_count": null,
   "metadata": {},
   "outputs": [],
   "source": []
  },
  {
   "cell_type": "code",
   "execution_count": null,
   "metadata": {},
   "outputs": [],
   "source": []
  },
  {
   "cell_type": "markdown",
   "metadata": {},
   "source": [
    "## File handling in Python\n",
    "\n",
    "File - Document containing information residing on the perminant storage\n",
    "Types - Text,PDF, CSV etc\n",
    "\n",
    "File I/O - Channelling I/O data to files\n",
    "Default I/O channels - keyboard/Screen\n",
    "\n",
    "Change I/O channel to files for Reading and writing\n",
    "\n",
    "Read a file - Input\n",
    "Write to a file - Output"
   ]
  },
  {
   "cell_type": "code",
   "execution_count": null,
   "metadata": {},
   "outputs": [],
   "source": []
  },
  {
   "cell_type": "code",
   "execution_count": 4,
   "metadata": {},
   "outputs": [
    {
     "name": "stdout",
     "output_type": "stream",
     "text": [
      "praise the lord\n",
      "\n",
      "god bless you\n"
     ]
    }
   ],
   "source": [
    "def readFile(filename):\n",
    "    f=open(filename,'r')\n",
    "    filedata = f.read()\n",
    "    f.close()\n",
    "    return filedata\n",
    "filename = 'DataFiles/data.txt'\n",
    "filedata = readFile(filename)\n",
    " \n",
    "def printFileDataLines(filename):\n",
    "    f=open(filename,'r')\n",
    "    for line in f:\n",
    "        print(line)\n",
    "    return\n",
    "printFileDataLines(filename)"
   ]
  },
  {
   "cell_type": "code",
   "execution_count": 10,
   "metadata": {},
   "outputs": [],
   "source": [
    "def writeIntoFile(filename,filedata):\n",
    "    with open(filename,'w') as f:\n",
    "        f.write(filedata)\n",
    "    return\n",
    "filename = 'DataFiles/data.txt'\n",
    "writeIntoFile(filename,'hi how are you\\n')"
   ]
  },
  {
   "cell_type": "code",
   "execution_count": 11,
   "metadata": {},
   "outputs": [],
   "source": [
    "def appendDataToFile(filename,filedata):\n",
    "    with open(filename,'a') as f:\n",
    "        f.write(filedata)\n",
    "    return\n",
    "filedata=\"\\nLINE2\\nLine3\"\n",
    "appendDataToFile(filename,filedata)"
   ]
  },
  {
   "cell_type": "code",
   "execution_count": null,
   "metadata": {},
   "outputs": [],
   "source": []
  }
 ],
 "metadata": {
  "kernelspec": {
   "display_name": "Python 3",
   "language": "python",
   "name": "python3"
  },
  "language_info": {
   "codemirror_mode": {
    "name": "ipython",
    "version": 3
   },
   "file_extension": ".py",
   "mimetype": "text/x-python",
   "name": "python",
   "nbconvert_exporter": "python",
   "pygments_lexer": "ipython3",
   "version": "3.7.3"
  }
 },
 "nbformat": 4,
 "nbformat_minor": 2
}
