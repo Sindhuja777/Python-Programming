{
 "cells": [
  {
   "cell_type": "markdown",
   "metadata": {},
   "source": [
    "## Problem Solving and Programming in Python - Day 4\n",
    "\n",
    "### Date - 14 June 2019\n",
    "\n",
    "## Day Objectives\n",
    "- Python Data Structures\n",
    "    - Lists\n",
    "    - Tuples\n",
    "    - Dictionaries\n",
    "- Basic Problem Set on Data structures\n",
    "- Advanced Problem Set\n",
    "- Packages and Modules in Python"
   ]
  },
  {
   "cell_type": "code",
   "execution_count": null,
   "metadata": {},
   "outputs": [],
   "source": []
  },
  {
   "cell_type": "markdown",
   "metadata": {},
   "source": [
    "# Python Data Structures\n",
    "\n",
    "## Lists"
   ]
  },
  {
   "cell_type": "code",
   "execution_count": 46,
   "metadata": {},
   "outputs": [
    {
     "data": {
      "text/plain": [
       "2"
      ]
     },
     "execution_count": 46,
     "metadata": {},
     "output_type": "execute_result"
    }
   ],
   "source": [
    "li = [123,345,456] # Create a list\n",
    "\n",
    "li # Access the entire list\n",
    "\n",
    "li[1] # Access an element with index in a list\n",
    "\n",
    "li[1:] #Access second element to last element in a list\n",
    "\n",
    "li[-1] #Access last element in a list\n",
    "\n",
    "li[::-1] #Reverse list\n",
    "\n",
    "li = li[::-1] # Reversing a list and re-assigning\n",
    "\n",
    "li = li[::-1] # Original list\n",
    "\n",
    "li[::2] #Accessing even index elements\n",
    "\n",
    "li[1::2] # Accessing  odd index elements\n",
    "\n",
    "# Lists can be accessed , manipulated in two different ways \n",
    "    # 1) Direct Referencing - Accessing through [index] \n",
    "    # 2) Indirect Referencing - Through functions\n",
    "\n",
    "li.append(167)#Adding an element to end of the list\n",
    "\n",
    "li.insert(1,234)#Adding an element at a particular index\n",
    "\n",
    "li.sort() # Sort the elements in ascending order\n",
    "\n",
    "li.pop()#Remove the last element\n",
    "\n",
    "li.pop(1)#Remove an elements at a particular index\n",
    "\n",
    "li2=[987,765,543]\n",
    "\n",
    "li.extend(li2) #Merge list 2 into list 1\n",
    "\n",
    "\n",
    "# These three functions are very powerful and important functions in Python Data Structures\n",
    "sum(li) # Sum of all elements in a list\n",
    "max(li) # Maximum element in a list\n",
    "len(li) # Number of elements in  a list\n",
    "\n",
    "sum(li)/len(li)#Average of list elements\n",
    "\n",
    "# Average of all alternate elements at even index positions in a given list\n",
    "sum(li[::2])/len(li[::2])\n",
    "\n",
    "li.index(345)"
   ]
  },
  {
   "cell_type": "code",
   "execution_count": 9,
   "metadata": {},
   "outputs": [
    {
     "data": {
      "text/plain": [
       "543"
      ]
     },
     "execution_count": 9,
     "metadata": {},
     "output_type": "execute_result"
    }
   ],
   "source": [
    "#Function to identify the second largest element in a list having unique elements\n",
    "    #Sort the data and select the second last element\n",
    "    #Sort te data in reverse order, and select the first index element\n",
    "    #Remove the max element and then get the max of the remaining list\n",
    "def secondMax(li):\n",
    "    li.sort()\n",
    "    return li[-2]\n",
    "secondMax(li)\n",
    "def genericaLargest(li,n):\n",
    "    li.sort()\n",
    "    return li[-n]\n",
    "genericLargest(li,3)"
   ]
  },
  {
   "cell_type": "code",
   "execution_count": 5,
   "metadata": {},
   "outputs": [
    {
     "data": {
      "text/plain": [
       "543"
      ]
     },
     "execution_count": 5,
     "metadata": {},
     "output_type": "execute_result"
    }
   ],
   "source": [
    "# Funciton that returns the nth largest in unique element list\n",
    "def genericLargest(li,n):\n",
    "    li.sort()\n",
    "    li=li[::-1]\n",
    "    return li[n-1]\n",
    "genericLargest(li,3)"
   ]
  },
  {
   "cell_type": "code",
   "execution_count": 56,
   "metadata": {},
   "outputs": [
    {
     "data": {
      "text/plain": [
       "-1"
      ]
     },
     "execution_count": 56,
     "metadata": {},
     "output_type": "execute_result"
    }
   ],
   "source": [
    "#Function to search for data in a list\n",
    "# [123, 234, 345, 987, 765, 543]\n",
    "def linearSearch(li,key):\n",
    "    for index in range(0,len(li)):\n",
    "        if li[index] == key:\n",
    "            return index\n",
    "    return -1\n",
    "linearSearch(li,234)\n",
    "\n",
    "\n",
    "def linearSearch2(li,key):\n",
    "    for element in li:\n",
    "        if element == key:\n",
    "            return li.index(element)\n",
    "    return -1\n",
    "linearSearch2(li,234)\n",
    "\n",
    "def linearSearch3(li,key):\n",
    "    try:\n",
    "        return li.index(key)\n",
    "    except:\n",
    "        return -1\n",
    "linearSearch3(li,987)\n",
    "\n",
    "def linearSearch4(li,key):\n",
    "    if key in li:\n",
    "        return li.index(key)\n",
    "    return -1\n",
    "linearSearch4(li,97)"
   ]
  },
  {
   "cell_type": "code",
   "execution_count": null,
   "metadata": {},
   "outputs": [],
   "source": []
  },
  {
   "cell_type": "code",
   "execution_count": 88,
   "metadata": {},
   "outputs": [
    {
     "data": {
      "text/plain": [
       "1"
      ]
     },
     "execution_count": 88,
     "metadata": {},
     "output_type": "execute_result"
    }
   ],
   "source": [
    "# Function to count the occurences of a character in a string\n",
    "# \"Python Programming\",m  --> 2\n",
    "\n",
    "def noofOccurences(s,ch):\n",
    "    count=0\n",
    "    for c in s:\n",
    "        if c == ch:\n",
    "            count=count+1\n",
    "    return count\n",
    "noofOccurences('python programming','P')\n",
    "\n",
    "#Function to count the occurences of a character and substring in a given string\n",
    "def countOccurences(s,ch):\n",
    "    return s.count(ch)\n",
    "countOccurences('python programming','pr')\n",
    "\n",
    "#Function to find the number of occurences of a character in a given string\n",
    "def countNoofSubstrings(s,subs):\n",
    "    "
   ]
  },
  {
   "cell_type": "code",
   "execution_count": null,
   "metadata": {},
   "outputs": [],
   "source": []
  },
  {
   "cell_type": "code",
   "execution_count": null,
   "metadata": {},
   "outputs": [],
   "source": []
  }
 ],
 "metadata": {
  "kernelspec": {
   "display_name": "Python 3",
   "language": "python",
   "name": "python3"
  },
  "language_info": {
   "codemirror_mode": {
    "name": "ipython",
    "version": 3
   },
   "file_extension": ".py",
   "mimetype": "text/x-python",
   "name": "python",
   "nbconvert_exporter": "python",
   "pygments_lexer": "ipython3",
   "version": "3.7.3"
  }
 },
 "nbformat": 4,
 "nbformat_minor": 2
}
