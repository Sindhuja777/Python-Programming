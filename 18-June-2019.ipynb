{
 "cells": [
  {
   "cell_type": "code",
   "execution_count": null,
   "metadata": {
    "scrolled": false
   },
   "outputs": [],
   "source": []
  },
  {
   "cell_type": "code",
   "execution_count": null,
   "metadata": {},
   "outputs": [],
   "source": [
    "# Read no of array elements and no of queries\n",
    "n=input().split()\n",
    "n[0],n[1]=int(n[0]),int(n[1])\n",
    "#Read array elements\n",
    "a=input().split()\n",
    "sum = [] #Initialize cumulative sum array\n",
    "\n",
    "#Cumulative sum\n",
    "for i in range(0,n[0]):\n",
    "    if i==0:\n",
    "        sum.append(int(a[i]))\n",
    "    else:\n",
    "        sum.append(int(sum[i-1])+int(a[i]))\n",
    "del a\n",
    "#Read each query and calculate the average\n",
    "for i in range(0,n[1]):\n",
    "    inq=input().split()\n",
    "    i=int(inq[0])\n",
    "    j=int(inq[1])\n",
    "    if i > 1:\n",
    "        print((sum[j-1] - sum[i-2]) //(j-i+1))\n",
    "    else:\n",
    "        print(sum[j-1] // (j-i+1))"
   ]
  },
  {
   "cell_type": "code",
   "execution_count": null,
   "metadata": {},
   "outputs": [],
   "source": []
  },
  {
   "cell_type": "code",
   "execution_count": null,
   "metadata": {},
   "outputs": [],
   "source": []
  },
  {
   "cell_type": "markdown",
   "metadata": {},
   "source": [
    "## Tuples\n",
    "Tuple is denoted by t=()\n",
    "list is denoted by li=[]\n",
    "\n",
    "Difference between Lists and Tuples\n",
    "\n",
    "- Lists are mutable means they can be changed or modified\n",
    "- Access,modify, add, delete data\n",
    "- Tuples are immutable they cannot be changed or modified once initialized\n",
    "- Tuples are generally used to access data only"
   ]
  },
  {
   "cell_type": "code",
   "execution_count": 17,
   "metadata": {},
   "outputs": [
    {
     "data": {
      "text/plain": [
       "[1, 2, 8, 6, 0]"
      ]
     },
     "execution_count": 17,
     "metadata": {},
     "output_type": "execute_result"
    }
   ],
   "source": [
    "t1=(1,2,8,6,0)  #Creating a tuple\n",
    "\n",
    "t1[3]  #Accessing the fourth element in a tuple\n",
    "\n",
    "t1[:]   #Accessing all elements\n",
    "\n",
    "t1[len(t1)//2:]  #Accessing all elements from middle element to last element\n"
   ]
  },
  {
   "cell_type": "code",
   "execution_count": null,
   "metadata": {},
   "outputs": [],
   "source": []
  },
  {
   "cell_type": "code",
   "execution_count": null,
   "metadata": {},
   "outputs": [],
   "source": []
  },
  {
   "cell_type": "code",
   "execution_count": null,
   "metadata": {},
   "outputs": [],
   "source": [
    "import re\n",
    "def phoneNumberValidator(phonenum):\n",
    "    pattern='^[6-9][0-9]{9}$|^[0][6-9][0-9]{9}$|^[+][9][1][6-9][0-9]{9}$'\n",
    "    if re.match(pattern,str(phonenum)):\n",
    "        print(\"Valid Number\")\n",
    "    else:\n",
    "        print(\"Invalid Number\")\n",
    "    return\n",
    "phoneNumberValidator(input())\n",
    "\n",
    "def emailValidator(email):\n",
    "    pattern='^[0-9a-z][0-9a-z_.]{4,13}[0-9a-z][@][a-z0-9]{3,18}[.][a-z]{2,4}$'\n",
    "    if re.match(pattern,email):\n",
    "        return True\n",
    "    return False\n",
    "emailValidator(\"sindhu_662@gmail.com\")"
   ]
  },
  {
   "cell_type": "markdown",
   "metadata": {},
   "source": [
    "## Dictionaries in Python\n",
    "\n",
    "- It works on the concept of a set\n",
    "- Dictionary has two values  (Key,Value)\n",
    "- Key is the unique identifier for a value\n",
    "- Value is data that can be accessed with a key"
   ]
  },
  {
   "cell_type": "code",
   "execution_count": 32,
   "metadata": {},
   "outputs": [
    {
     "data": {
      "text/plain": [
       "True"
      ]
     },
     "execution_count": 32,
     "metadata": {},
     "output_type": "execute_result"
    }
   ],
   "source": [
    "dict = {'name':'sindhu','age':'21'}\n",
    "\n",
    "dict['name']   # Accessing the values with key\n",
    "dict.keys()  # Return all keys in a dictionary\n",
    "dict.values()  # Return all values in a dictionary\n",
    "dict.items()    # Return all key and value pairs as list of tuples\n",
    "dict['Gender']='Female'  #Adding an element to the dictionary\n",
    "dict['name'] = 'sindhuja' # Updating an element\n",
    "dict.pop('Gender')  # Removing an element and returns the value of that particular key\n",
    "'name' in dict"
   ]
  },
  {
   "cell_type": "markdown",
   "metadata": {},
   "source": [
    "##  Contact Application\n",
    "- Add contact\n",
    "- Search for contact\n",
    "- List all contacts\n",
    "    - name : phone\n",
    "- Modify contact\n",
    "- Remove contact\n",
    "- import contacts"
   ]
  },
  {
   "cell_type": "code",
   "execution_count": 13,
   "metadata": {
    "scrolled": true
   },
   "outputs": [
    {
     "name": "stdout",
     "output_type": "stream",
     "text": [
      "Contact Added Successfully\n"
     ]
    }
   ],
   "source": [
    "contacts={amma':'9912635647','Thammudu':'9010048334','Mavayya':'9951367465','Sharmila':'8330919192'}\n",
    "\n",
    "def addContact(name,phonenum):\n",
    "    if name not in contacts:\n",
    "        contacts[name] = phonenum\n",
    "        print(\"Contact Added Successfully\")\n",
    "    else:\n",
    "        print('contact %s already exists'%name)\n",
    "    return\n",
    "addContact('atta','9912603893')"
   ]
  },
  {
   "cell_type": "code",
   "execution_count": null,
   "metadata": {},
   "outputs": [],
   "source": [
    "def addContact(name,phonenum,email):\n",
    "    if name in contacts:\n",
    "        print(name, \"Already Exists.\")\n",
    "    else:\n",
    "        if not phoneNumberValidator(phonenum):\n",
    "            print(\"Invalid Phone number\")\n",
    "            return\n",
    "        if not emailValidator(email):\n",
    "            print(\"Invalid Email address\")\n",
    "            return\n",
    "        newcontact = []\n",
    "        newcontact.append(phonenum)\n",
    "        newcontact.append(email)\n",
    "        contacts[name] = newcontact\n",
    "    return\n",
    "addContact('sindhu','8330919192','sindhu_662@gmail.com')"
   ]
  },
  {
   "cell_type": "code",
   "execution_count": 14,
   "metadata": {
    "scrolled": false
   },
   "outputs": [
    {
     "name": "stdout",
     "output_type": "stream",
     "text": [
      "sindhu : 9951676604\n"
     ]
    }
   ],
   "source": [
    "def searchContact(name):\n",
    "    if name in contacts:\n",
    "        print(name,':',contacts[name])\n",
    "    else:\n",
    "        print(\"%s Not in Contacts\"%name)\n",
    "    return\n",
    "searchContact('sindhu')"
   ]
  },
  {
   "cell_type": "code",
   "execution_count": 17,
   "metadata": {},
   "outputs": [
    {
     "name": "stdout",
     "output_type": "stream",
     "text": [
      "sindhu : 9951676604\n",
      "amma : 9912635647\n",
      "Thammudu : 9010048334\n",
      "Mavayya : 9951367465\n",
      "Sharmila : 8330919192\n",
      "atta : 9912603893\n"
     ]
    }
   ],
   "source": [
    "def listall():\n",
    "    for key,value in contacts.items():\n",
    "        print(key,':',value)\n",
    "listall()"
   ]
  },
  {
   "cell_type": "code",
   "execution_count": 18,
   "metadata": {},
   "outputs": [
    {
     "name": "stdout",
     "output_type": "stream",
     "text": [
      "Removed Successfully\n"
     ]
    }
   ],
   "source": [
    "def removeContact(name):\n",
    "    if name in contacts:\n",
    "        contacts.pop(name)\n",
    "        print(\"Removed Successfully\")\n",
    "    else:\n",
    "        print(\"Contact doesnot exist\")\n",
    "removeContact('atta')"
   ]
  },
  {
   "cell_type": "code",
   "execution_count": 49,
   "metadata": {},
   "outputs": [
    {
     "name": "stdout",
     "output_type": "stream",
     "text": [
      "Changed\n"
     ]
    }
   ],
   "source": [
    "def modifyContact(name,phonenum):\n",
    "    if name in contacts:\n",
    "        contacts[name]=phonenum\n",
    "        print(\"Changed\")\n",
    "    else:\n",
    "        print(\"Contact doesnot Exist\")\n",
    "modifyContact('amma','9912635674')"
   ]
  },
  {
   "cell_type": "code",
   "execution_count": 53,
   "metadata": {},
   "outputs": [
    {
     "name": "stdout",
     "output_type": "stream",
     "text": [
      "2  Contacts are Added Successfully\n"
     ]
    }
   ],
   "source": [
    "# New contacts is given as a dictionary\n",
    "def importContacts(newContacts):\n",
    "    contacts.update(newContacts)\n",
    "    print(len(newContacts.keys()), \" Contacts are Added Successfully\")\n",
    "    return\n",
    "newContacts={'atta':'9912603893','vicky':'1234567890'}\n",
    "importContacts(newContacts)\n",
    "    "
   ]
  },
  {
   "cell_type": "code",
   "execution_count": null,
   "metadata": {},
   "outputs": [],
   "source": []
  },
  {
   "cell_type": "markdown",
   "metadata": {},
   "source": [
    "## Packages and Modules in Python\n",
    "**Package** -> Collection of Modules(Python File.py)\n",
    "**Sub Package** -> \n",
    "**Module** -> A single python file contains Functions\n",
    "- Package ->Sub package -> Modules -> Funcitons"
   ]
  },
  {
   "cell_type": "code",
   "execution_count": 3,
   "metadata": {},
   "outputs": [
    {
     "data": {
      "text/plain": [
       "123"
      ]
     },
     "execution_count": 3,
     "metadata": {},
     "output_type": "execute_result"
    }
   ],
   "source": [
    "from math import floor as fl\n",
    "\n",
    "floor(123.456)"
   ]
  },
  {
   "cell_type": "code",
   "execution_count": 4,
   "metadata": {},
   "outputs": [
    {
     "data": {
      "text/plain": [
       "123"
      ]
     },
     "execution_count": 4,
     "metadata": {},
     "output_type": "execute_result"
    }
   ],
   "source": [
    "import math\n",
    "math.floor(123.447)"
   ]
  },
  {
   "cell_type": "code",
   "execution_count": 24,
   "metadata": {},
   "outputs": [
    {
     "name": "stdout",
     "output_type": "stream",
     "text": [
      "91 55 17 75 37 83 13 40 41 26 "
     ]
    }
   ],
   "source": [
    "# Function to generate N random numbers in a given range\n",
    "\n",
    "import random\n",
    "def generateNrandomNumbers(n,lb,ub):\n",
    "    for i in range(0,n):\n",
    "        print(random.randint(lb,ub), end=\" \")\n",
    "generateNrandomNumbers(10,1,100)"
   ]
  },
  {
   "cell_type": "code",
   "execution_count": null,
   "metadata": {},
   "outputs": [],
   "source": []
  },
  {
   "cell_type": "code",
   "execution_count": null,
   "metadata": {},
   "outputs": [],
   "source": []
  },
  {
   "cell_type": "code",
   "execution_count": null,
   "metadata": {},
   "outputs": [],
   "source": []
  },
  {
   "cell_type": "code",
   "execution_count": null,
   "metadata": {},
   "outputs": [],
   "source": []
  }
 ],
 "metadata": {
  "kernelspec": {
   "display_name": "Python 3",
   "language": "python",
   "name": "python3"
  },
  "language_info": {
   "codemirror_mode": {
    "name": "ipython",
    "version": 3
   },
   "file_extension": ".py",
   "mimetype": "text/x-python",
   "name": "python",
   "nbconvert_exporter": "python",
   "pygments_lexer": "ipython3",
   "version": "3.7.3"
  }
 },
 "nbformat": 4,
 "nbformat_minor": 2
}
