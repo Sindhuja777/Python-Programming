{
 "cells": [
  {
   "cell_type": "code",
   "execution_count": null,
   "metadata": {},
   "outputs": [],
   "source": [
    "# Array everage\n",
    "def avgArray(si,li):\n",
    "    sum=0\n",
    "    for i in range(si,li+1):\n",
    "        sum=sum+a[i]\n",
    "    avg=sum//((li-si)+1)\n",
    "    print(avg)\n",
    "q=input()\n",
    "a=[int(q) for q in input().split()]\n",
    "si,li=input().split()\n",
    "avgArray(int(si),int(li))"
   ]
  },
  {
   "cell_type": "code",
   "execution_count": null,
   "metadata": {},
   "outputs": [],
   "source": []
  },
  {
   "cell_type": "code",
   "execution_count": 3,
   "metadata": {},
   "outputs": [
    {
     "name": "stdout",
     "output_type": "stream",
     "text": [
      "4\n",
      "*  *\n",
      "*  *\n",
      "*  *\n",
      "*  *\n",
      "*  *\n",
      "*  *\n"
     ]
    }
   ],
   "source": [
    "n=int(input())\n",
    "for i in range(1,n):\n",
    "    print(\"*  *\")\n",
    "    print(\"*  *\")"
   ]
  },
  {
   "cell_type": "code",
   "execution_count": null,
   "metadata": {},
   "outputs": [],
   "source": []
  }
 ],
 "metadata": {
  "kernelspec": {
   "display_name": "Python 3",
   "language": "python",
   "name": "python3"
  }
 },
 "nbformat": 4,
 "nbformat_minor": 2
}
